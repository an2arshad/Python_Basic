{
  "nbformat": 4,
  "nbformat_minor": 0,
  "metadata": {
    "colab": {
      "provenance": []
    },
    "kernelspec": {
      "name": "python3",
      "display_name": "Python 3"
    },
    "language_info": {
      "name": "python"
    }
  },
  "cells": [
    {
      "cell_type": "markdown",
      "source": [
        "# **Theory Questions:**\n",
        "\n",
        "Q1. What is the difference between a function and a method in Python?\n",
        "\n",
        "-> Difference between a function and a method in Python:\n",
        "* A function is a standalone block of code defined using the def keyword or as a lambda, independent of any class or object. while,\n",
        "* A method is a function that belongs to a class or object, defined within a class, and typically operates on the instance (self) or class (cls). Methods are called on objects or classes, while functions are called directly.\n",
        "Example:\n",
        "\n",
        "\n",
        "      #Function\n",
        "      def greet(name):\n",
        "          return f\"Hello, {name}!\"\n",
        "\n",
        "      print(greet(\"Alice\"))  # Output: Hello, Alice!\n",
        "      #method\n",
        "      class Person:\n",
        "          def greet(self, name):\n",
        "              return f\"Hello, {name} from {self.__class__.__name__}!\"\n",
        "\n",
        "      p = Person()\n",
        "      print(p.greet(\"Bob\"))  # Output: Hello, Bob from Person!\n",
        "\n",
        "Q2. Explain the concept of function arguments and parameters in Python.\n",
        "\n",
        "-> Parameters are variables defined in a function's signature that act as placeholders for data the function expects. Arguments are the actual values passed to the function when it is called. Parameters are used in the function definition, while arguments are used in the function call.\n",
        "Example:\n",
        "\n",
        "      #Parameters: x, y\n",
        "      def add(x, y):\n",
        "          return x + y\n",
        "\n",
        "      #Arguments: 3, 5\n",
        "      result = add(3, 5)\n",
        "      print(result)  # Output: 8\n",
        "\n",
        "Q3. What are the different ways to define and call a function in Python?\n",
        "\n",
        "-> Functions can be defined using:\n",
        "\n",
        "  * Standard def: Named function with def keyword.\n",
        "  \n",
        "  * Lambda: Anonymous function using lambda keyword.\n",
        "  \n",
        "  * Nested functions: Functions defined inside other functions.\n",
        "  \n",
        "  * Function with default arguments: Parameters with default values.\n",
        "  \n",
        "  * Variable-length arguments: Using *args or **kwargs.\n",
        "  \n",
        "  Functions can be called by:\n",
        "\n",
        "  * Directly using the function name with arguments.\n",
        "  \n",
        "  * Passing arguments by position or keyword.\n",
        "  \n",
        "  * Using unpacking (* or **).\n",
        "  \n",
        "  Example:\n",
        "        # Standard def\n",
        "        def multiply(a, b):\n",
        "            return a * b\n",
        "\n",
        "        # Lambda\n",
        "        square = lambda x: x * x\n",
        "\n",
        "        # Nested function\n",
        "        def outer():\n",
        "            def inner(x):\n",
        "                return x + 1\n",
        "            return inner(5)\n",
        "\n",
        "        # Default arguments\n",
        "        def greet(name=\"Guest\"):\n",
        "            return f\"Hello, {name}!\"\n",
        "\n",
        "        # Variable-length arguments\n",
        "        def sum_all(*args):\n",
        "            return sum(args)\n",
        "\n",
        "        # Calling\n",
        "        print(multiply(2, 3))          # Output: 6\n",
        "        print(square(4))               # Output: 16\n",
        "        print(outer())                 # Output: 6\n",
        "        print(greet())                 # Output: Hello, Guest!\n",
        "        print(sum_all(1, 2, 3))        # Output: 6\n",
        "        print(multiply(b=3, a=2))      # Keyword args, Output: 6\n",
        "\n",
        "Q4. What is the purpose of the return statement in a Python function?\n",
        "\n",
        "-> The return statement exits a function and sends a value (or None if no value is specified) back to the caller. It allows the function's result to be used elsewhere in the program. Without return, the function implicitly returns None.\n",
        "\n",
        "Example:\n",
        "\n",
        "      def divide(a, b):\n",
        "          return a / b\n",
        "\n",
        "      result = divide(10, 2)\n",
        "      print(result)  # Output: 5.0\n",
        "\n",
        "      def no_return():\n",
        "          pass\n",
        "\n",
        "      print(no_return())  # Output: None\n",
        "\n",
        "Q5. What are iterators in Python and how do they differ from iterables?\n",
        "\n",
        "-> An iterable is an object capable of returning its elements one at a time (e.g., lists, tuples, strings), implementing the __iter__() method. An iterator is an object that represents a stream of data, implementing both __iter__() and __next__() methods to fetch the next element. Iterables can be converted to iterators using iter(), and iterators are used to traverse iterables.\n",
        "\n",
        "Example:\n",
        "\n",
        "      # Iterable\n",
        "      my_list = [1, 2, 3]\n",
        "\n",
        "      # Iterator\n",
        "      my_iterator = iter(my_list)\n",
        "\n",
        "      print(next(my_iterator))  # Output: 1\n",
        "      print(next(my_iterator))  # Output: 2\n",
        "      print(next(my_iterator))  # Output: 3\n",
        "\n",
        "      # my_list is iterable but not an iterator\n",
        "      # my_iterator is both iterable and an iterator\n",
        "\n",
        "Q6. Explain the concept of generators in Python and how they are defined.\n",
        "\n",
        "-> Generators are a type of iterable that yield values one at a time, allowing efficient memory usage by generating values on-the-fly rather than storing them all in memory. They are defined using:\n",
        "\n",
        "* Generator functions: Using def with yield instead of return.\n",
        "* Generator expressions: Similar to list comprehensions but with ().\n",
        "\n",
        "Example:\n",
        "\n",
        "      # Generator function\n",
        "      def fibonacci(n):\n",
        "          a, b = 0, 1\n",
        "          for _ in range(n):\n",
        "              yield a\n",
        "              a, b = b, a + b\n",
        "\n",
        "      # Using generator\n",
        "      for num in fibonacci(5):\n",
        "          print(num)  # Output: 0, 1, 1, 2, 3\n",
        "\n",
        "      # Generator expression\n",
        "      squares = (x**2 for x in range(4))\n",
        "      print(list(squares))  # Output: [0, 1, 4, 9]\n",
        "\n",
        "Q7. What are the advantages of using generators over regular functions?\n",
        "\n",
        "-> Generators offer:\n",
        "\n",
        "* Memory efficiency: Yield values one at a time instead of storing all results in memory.\n",
        "\n",
        "* Lazy evaluation: Compute values only when needed.\n",
        "\n",
        "* Simplified iterator creation: No need to implement __iter__() and __next__().\n",
        "\n",
        "* Handle large/infinite sequences: Process data streams without loading everything into memory.\n",
        "\n",
        "    Example:\n",
        "\n",
        "      # Regular function (stores entire list)\n",
        "      def get_squares(n):\n",
        "          return [i**2 for i in range(n)]\n",
        "\n",
        "      # Generator (yields one value at a time)\n",
        "      def gen_squares(n):\n",
        "          for i in range(n):\n",
        "              yield i**2\n",
        "\n",
        "      # Memory usage comparison\n",
        "      large_list = get_squares(1000000)  # Stores 1M items in memory\n",
        "      large_gen = gen_squares(1000000)   # Generates items one by one\n",
        "\n",
        "      print(next(large_gen))  # Output: 0 (uses minimal memory)\n",
        "\n",
        "Q8. What is a lambda function in Python and when is it typically used?\n",
        "\n",
        "-> A lambda function is an anonymous, single-expression function defined using the lambda keyword. It’s used for short, simple operations, often as arguments to higher-order functions like map(), filter(), or sorted(), where defining a full function is unnecessary.\n",
        "\n",
        "Example:\n",
        "\n",
        "      # Lambda function\n",
        "      add = lambda x, y: x + y\n",
        "      print(add(2, 3))  # Output: 5\n",
        "\n",
        "      # Used in sorted\n",
        "      pairs = [(1, 'one'), (3, 'three'), (2, 'two')]\n",
        "      sorted_pairs = sorted(pairs, key=lambda x: x[1])\n",
        "      print(sorted_pairs)  # Output: [(1, 'one'), (3, 'three'), (2, 'two')]\n",
        "\n",
        "Q9. Explain the purpose and usage of the map() function in Python.\n",
        "\n",
        "-> The map() function applies a given function to each item of an iterable (or multiple iterables) and returns an iterator of the results. It’s used to transform data efficiently without explicit loops.\n",
        "\n",
        "Example:\n",
        "\n",
        "      # Double each number\n",
        "      numbers = [1, 2, 3, 4]\n",
        "      doubled = map(lambda x: x * 2, numbers)\n",
        "      print(list(doubled))  # Output: [2, 4, 6, 8]\n",
        "\n",
        "      # Map with multiple iterables\n",
        "      a = [1, 2, 3]\n",
        "      b = [4, 5, 6]\n",
        "      sums = map(lambda x, y: x + y, a, b)\n",
        "      print(list(sums))  # Output: [5, 7, 9]\n",
        "\n",
        "Q10. What is the difference between map(), reduce(), and filter() functions in Python?\n",
        "\n",
        "-> The main differences are:\n",
        "* map(): Applies a function to each item in an iterable, transforming it into a new iterator of results.\n",
        "* reduce(): (From functools) Applies a function cumulatively to items of an * iterable, reducing it to a single value.\n",
        "* filter(): Applies a function that returns True or False to each item, keeping only items where the function returns True.\n",
        "\n",
        "  Example:\n",
        "\n",
        "\n",
        "      from functools import reduce\n",
        "\n",
        "      numbers = [1, 2, 3, 4]\n",
        "\n",
        "      # map: Transform each element\n",
        "      squares = map(lambda x: x**2, numbers)\n",
        "      print(list(squares))  # Output: [1, 4, 9, 16]\n",
        "\n",
        "      # reduce: Combine elements into a single value\n",
        "      sum_all = reduce(lambda x, y: x + y, numbers)\n",
        "      print(sum_all)  # Output: 10\n",
        "\n",
        "      # filter: Select elements based on condition\n",
        "      evens = filter(lambda x: x % 2 == 0, numbers)\n",
        "      print(list(evens))  # Output: [2, 4]\n",
        "\n",
        "Q11. Using pen & Paper write the internal mechanism for sum operation using  reduce function on this given list:[47,11,42,13];\n",
        "\n",
        "(Attach paper image for this answer) in doc or collab notebook.\n",
        "\n",
        "-> Attached"
      ],
      "metadata": {
        "id": "cslct_hvJyKy"
      }
    },
    {
      "cell_type": "markdown",
      "source": [
        "# **Practical Questions:**"
      ],
      "metadata": {
        "id": "tHm5yG8RjV7w"
      }
    },
    {
      "cell_type": "code",
      "source": [
        "#1. Write a Python function that takes a list of numbers as input and returns the sum of all even numbers in the list.\n",
        "def sum_even_numbers(numbers):\n",
        "    return sum(num for num in numbers if num % 2 == 0)\n",
        "\n",
        "# Example usage\n",
        "numbers = [1, 2, 3, 4, 5, 6]\n",
        "result = sum_even_numbers(numbers)\n",
        "print(result)"
      ],
      "metadata": {
        "colab": {
          "base_uri": "https://localhost:8080/"
        },
        "id": "Q69_vp9Si3rn",
        "outputId": "741965bd-55fa-4c08-c132-c4b2bd0b1792"
      },
      "execution_count": 1,
      "outputs": [
        {
          "output_type": "stream",
          "name": "stdout",
          "text": [
            "12\n"
          ]
        }
      ]
    },
    {
      "cell_type": "code",
      "source": [
        "#2. Create a Python function that accepts a string and returns the reverse of that string.\n",
        "def reverse_string(string):\n",
        "    return string[::-1]\n",
        "\n",
        "# Example usage\n",
        "string = \"Hello, World!\"\n",
        "reversed_string = reverse_string(string)\n",
        "print(reversed_string)"
      ],
      "metadata": {
        "colab": {
          "base_uri": "https://localhost:8080/"
        },
        "id": "Y1-5XRQrj6hU",
        "outputId": "6293ca63-ab83-47e7-dec9-09620857f5b4"
      },
      "execution_count": 2,
      "outputs": [
        {
          "output_type": "stream",
          "name": "stdout",
          "text": [
            "!dlroW ,olleH\n"
          ]
        }
      ]
    },
    {
      "cell_type": "code",
      "source": [
        "#3. Implement a Python function that takes a list of integers and returns a new list containing the squares of each number.\n",
        "def square_numbers(numbers):\n",
        "    return [num ** 2 for num in numbers]\n",
        "\n",
        "# Example usage\n",
        "numbers = [1, 2, 3, 4, 5]\n",
        "squared_numbers = square_numbers(numbers)\n",
        "print(squared_numbers)"
      ],
      "metadata": {
        "colab": {
          "base_uri": "https://localhost:8080/"
        },
        "id": "YoweXzIkkOFa",
        "outputId": "d5ce4a8b-a802-43f1-c022-8926061f8eff"
      },
      "execution_count": 3,
      "outputs": [
        {
          "output_type": "stream",
          "name": "stdout",
          "text": [
            "[1, 4, 9, 16, 25]\n"
          ]
        }
      ]
    },
    {
      "cell_type": "code",
      "source": [
        "#4. Write a Python function that checks if a given number is prime or not from 1 to 200.\n",
        "def is_prime(n):\n",
        "    if n < 1 or n > 200:\n",
        "        return \"Number must be between 1 and 200\"\n",
        "    if n == 1:\n",
        "        return False\n",
        "    for i in range(2, int(n ** 0.5) + 1):\n",
        "        if n % i == 0:\n",
        "            return False\n",
        "    return True\n",
        "\n",
        "# Example usage\n",
        "print(is_prime(17))\n",
        "print(is_prime(4))"
      ],
      "metadata": {
        "colab": {
          "base_uri": "https://localhost:8080/"
        },
        "id": "LbvpvJvNkWIh",
        "outputId": "55305039-aa49-44fa-edba-a8c9866dff78"
      },
      "execution_count": 6,
      "outputs": [
        {
          "output_type": "stream",
          "name": "stdout",
          "text": [
            "True\n",
            "False\n"
          ]
        }
      ]
    },
    {
      "cell_type": "code",
      "source": [
        "#5. Create an iterator class in Python that generates the Fibonacci sequence up to a specified number of terms.\n",
        "class FibonacciIterator:\n",
        "    def __init__(self, n):\n",
        "        self.n = n\n",
        "        self.count = 0\n",
        "        self.a, self.b = 0, 1\n",
        "\n",
        "    def __iter__(self):\n",
        "        return self\n",
        "\n",
        "    def __next__(self):\n",
        "        if self.count >= self.n:\n",
        "            raise StopIteration\n",
        "        self.count += 1\n",
        "        fib = self.a\n",
        "        self.a, self.b = self.b, self.a + self.b\n",
        "        return fib\n",
        "\n",
        "# Example usage\n",
        "fib = FibonacciIterator(6)\n",
        "print(list(fib))"
      ],
      "metadata": {
        "colab": {
          "base_uri": "https://localhost:8080/"
        },
        "id": "oMMYeuI5kimG",
        "outputId": "48947cb5-52b7-4c2c-a704-08a66e3a2987"
      },
      "execution_count": 7,
      "outputs": [
        {
          "output_type": "stream",
          "name": "stdout",
          "text": [
            "[0, 1, 1, 2, 3, 5]\n"
          ]
        }
      ]
    },
    {
      "cell_type": "code",
      "source": [
        "#6. Write a generator function in Python that yields the powers of 2 up to a given exponent.\n",
        "def power_of_two(n):\n",
        "    for i in range(n + 1):\n",
        "        yield 2 ** i\n",
        "\n",
        "# Example usage\n",
        "powers = power_of_two(5)\n",
        "print(list(powers))"
      ],
      "metadata": {
        "colab": {
          "base_uri": "https://localhost:8080/"
        },
        "id": "wKQT_YMMlqSc",
        "outputId": "a6fd9b1c-4f02-4351-d719-77eea8bf59bd"
      },
      "execution_count": 8,
      "outputs": [
        {
          "output_type": "stream",
          "name": "stdout",
          "text": [
            "[1, 2, 4, 8, 16, 32]\n"
          ]
        }
      ]
    },
    {
      "cell_type": "code",
      "source": [
        "#7. Implement a generator function that reads a file line by line and yields each line as a string.\n",
        "def read_lines(file_content):\n",
        "    # Simulating file content as a string split into lines\n",
        "    for line in file_content.splitlines():\n",
        "        yield line\n",
        "\n",
        "# Example usage\n",
        "file_content = \"Line 1\\nLine 2\\nLine 3\"\n",
        "for line in read_lines(file_content):\n",
        "    print(line)"
      ],
      "metadata": {
        "colab": {
          "base_uri": "https://localhost:8080/"
        },
        "id": "em4DSywalzgS",
        "outputId": "77ead6a1-749f-426b-f473-d011c929fe08"
      },
      "execution_count": 11,
      "outputs": [
        {
          "output_type": "stream",
          "name": "stdout",
          "text": [
            "Line 1\n",
            "Line 2\n",
            "Line 3\n"
          ]
        }
      ]
    },
    {
      "cell_type": "code",
      "source": [
        "#8. Use a lambda function in Python to sort a list of tuples based on the second element of each tuple.\n",
        "# List of tuples\n",
        "data = [(1, 'banana'), (2, 'apple'), (3, 'cherry')]\n",
        "\n",
        "# Sort using lambda based on second element\n",
        "sorted_data = sorted(data, key=lambda x: x[1])\n",
        "\n",
        "print(sorted_data)"
      ],
      "metadata": {
        "colab": {
          "base_uri": "https://localhost:8080/"
        },
        "id": "8iuyGGyVmXJz",
        "outputId": "7b70e592-1c1b-4560-b4af-f4ff323954d3"
      },
      "execution_count": 12,
      "outputs": [
        {
          "output_type": "stream",
          "name": "stdout",
          "text": [
            "[(2, 'apple'), (1, 'banana'), (3, 'cherry')]\n"
          ]
        }
      ]
    },
    {
      "cell_type": "code",
      "source": [
        "#9. Write a Python program that uses map() to convert a list of temperatures from Celsius to Fahrenheit.\n",
        "# List of temperatures in Celsius\n",
        "celsius = [0, 20, 37, 100]\n",
        "\n",
        "# Convert to Fahrenheit using map\n",
        "fahrenheit = list(map(lambda c: c * 9/5 + 32, celsius))\n",
        "\n",
        "print(fahrenheit)"
      ],
      "metadata": {
        "colab": {
          "base_uri": "https://localhost:8080/"
        },
        "id": "YqYZMoJ5nWIU",
        "outputId": "62dfcd7a-555d-4097-e28c-ff26e5dfe845"
      },
      "execution_count": 13,
      "outputs": [
        {
          "output_type": "stream",
          "name": "stdout",
          "text": [
            "[32.0, 68.0, 98.6, 212.0]\n"
          ]
        }
      ]
    },
    {
      "cell_type": "code",
      "source": [
        "#10. Create a Python program that uses filter() to remove all the vowels from a given string.\n",
        "def remove_vowels(string):\n",
        "    vowels = 'aeiouAEIOU'\n",
        "    return ''.join(filter(lambda x: x not in vowels, string))\n",
        "\n",
        "# Example usage\n",
        "string = \"Hello, World!\"\n",
        "result = remove_vowels(string)\n",
        "print(result)"
      ],
      "metadata": {
        "colab": {
          "base_uri": "https://localhost:8080/"
        },
        "id": "JH-u4Hn_nuo0",
        "outputId": "fb68ce76-e575-488d-d48a-24c3e59822f6"
      },
      "execution_count": 16,
      "outputs": [
        {
          "output_type": "stream",
          "name": "stdout",
          "text": [
            "Hll, Wrld!\n"
          ]
        }
      ]
    },
    {
      "cell_type": "code",
      "source": [
        "#11. Imagine an accounting routine used in a book shop. It works on a list with sublists, which look like this:\n",
        "\"\"\"\n",
        "Order Number            Book Title and Author                 Quantity                Price per Item\n",
        "\n",
        "34587                  Learning Python, Mark Lutz               4                      40.95\n",
        "\n",
        "98762                  Programming Python, Mark Lutz            5                      56.80\n",
        "\n",
        "77226                  Head First Python, Paul Barry            3                      32.95\n",
        "\n",
        "88112                  Einführung in Python3, Bernd Klein       3                      24.99\n",
        "\n",
        "Write a Python program, which returns a list with 2-tuples. Each tuple consists of the order number and the product of the price per item and the quantity. The product should be increased by 10,- € if the value of the order is smaller than 100,00 €.\n",
        "\n",
        "Write a Python program using lambda and map.\n",
        "\"\"\"\n",
        "# List of orders\n",
        "orders = [\n",
        "    [34587, \"Learning Python, Mark Lutz\", 4, 40.95],\n",
        "    [98762, \"Programming Python, Mark Lutz\", 5, 56.80],\n",
        "    [77226, \"Head First Python, Paul Barry\", 3, 32.95],\n",
        "    [88112, \"Einführung in Python3, Bernd Klein\", 3, 24.99]\n",
        "]\n",
        "\n",
        "# Use map and lambda to create list of (order_number, adjusted_total) tuples\n",
        "result = list(map(\n",
        "    lambda order: (\n",
        "        order[0],  # Order number\n",
        "        (order[2] * order[3] + 10) if (order[2] * order[3]) < 100 else (order[2] * order[3])\n",
        "    ),\n",
        "    orders\n",
        "))\n",
        "\n",
        "# Print the result\n",
        "print(result)"
      ],
      "metadata": {
        "colab": {
          "base_uri": "https://localhost:8080/"
        },
        "id": "SvnwehWLn2Cl",
        "outputId": "237b142b-6729-4515-b6f7-6f2ca7d18a3b"
      },
      "execution_count": 17,
      "outputs": [
        {
          "output_type": "stream",
          "name": "stdout",
          "text": [
            "[(34587, 163.8), (98762, 284.0), (77226, 108.85000000000001), (88112, 84.97)]\n"
          ]
        }
      ]
    },
    {
      "cell_type": "code",
      "source": [],
      "metadata": {
        "id": "UGyDBwOdshbW"
      },
      "execution_count": null,
      "outputs": []
    }
  ]
}