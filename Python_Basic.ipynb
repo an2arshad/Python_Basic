{
  "cells": [
    {
      "cell_type": "markdown",
      "metadata": {
        "id": "G2cCRmj6U1v8"
      },
      "source": [
        "# **Python Basic Questions**\n",
        "\n",
        "Q1. What is Python, and why is it popular?\n",
        "    \n",
        "  -> Python is a programming language that is easy to uderstand and write, making it a popular choice among developers and programmers.\n",
        "\n",
        "Q2. What is an enterpreter in Python?\n",
        "\n",
        "  -> Python interpreter is the engine that takes our code, understands it, and makes our computer actually do what we've instructed it to do.\n",
        "\n",
        "Q3. What are pre-defined keywords in Python?\n",
        "\n",
        "  -> Keywords are reserved words in Python that have special meanings and can not be used as identifiers (variable names, function names, etc)\n",
        "  Example of keywords include if, else, while, for, def, class, import, try, except, none etc.\n",
        "\n",
        "Q4. Can keywords be used as variable names?\n",
        "\n",
        "  -> No, keywords cannot be used as variable names in Python.\n",
        "  Keywords are reserved words that have specific, pre-defined meanings within the Python language, If we try to assign a value to a variable with the same name as a keyword, Pyhton will raise a SyntaxError.\n",
        "\n",
        "Q5. What is mutability in Python?\n",
        "\n",
        "  -> Mutability in Python is a fundamental concept that describes whether the internal state of an object can be changed after it's created. It affects how objects are stored and manipulated in memory. Example lists, dictionaries.\n",
        "\n",
        "Q6. Why are lists mutable, but tuples are immutable?\n",
        "\n",
        "  -> The mutability of lists provides flexibility for dynamic collections,  while the immutability of tuples ensures data integrity, allows them to be used as dictionary keys and set elements, and can offer some performance and safety advantages in certain situations. The choice between using a list or a tuple depends on the specific requirements of the program and nature of the data.\n",
        "\n",
        "Q7. What is the difference between “==” and “is” operators in Python?\n",
        "\n",
        "  -> The difference between the '==' operator and 'is' operators in Python lies in what they compare:\n",
        "  *   ==(Equality): This operator checks if the values of two objects are the same. It compares the content or state of the objects.\n",
        "  *   is(Identity): This operator checks if two variables refer to the exact same object in memory. It compares the memory addresses or identities of the objects.\n",
        "\n",
        "Q8. What are logical operators in Python?\n",
        "\n",
        "  -> Logical operators are used to combine or modify boolean values (True or False). They allow us to create more complex conditions for decision-making in our code.\n",
        "  Example\n",
        "  *   and:\n",
        "        * Returns True if both operads are True.\n",
        "        * Return False if at least one of the operand is False.\n",
        "  *   or:\n",
        "        * Returns True if at least one of the operand is True.\n",
        "        * Returns False if both operands are False.\n",
        "  *  not:\n",
        "        * Returns the opposite of the operand's boolean value.\n",
        "\n",
        "Q9. What is type casting in Python?\n",
        "  \n",
        "  -> Type casting, also reffered as type conversion, is the process of changing one data type to another in Python.\n",
        "\n",
        "Q10. What is the difference between implicit and explicit type casting?\n",
        "\n",
        " -> Implicit is done by Python automatically for compatible types, while explicit requires the programmer to use specific function to perform the conversion.\n",
        "      \n",
        "  * Implicit Type Casting:\n",
        "    * Python automatically converts data types during certain operations without explicit programmer intervention.\n",
        "    * This happens when it's deemed safe and won't lead to significant data loss, typically promoting a less general type to a more general one within an operation.\n",
        "  * Explicit Type Casting:\n",
        "    * The proogrammer manually converts data types using built-in function like int(), float(), str(), etc.\n",
        "    * This is necessary when Python doesn't perform automatic conversion or when a specific type is required, even if the might risk data loss.\n",
        "\n",
        "Q11. What is the purpose of conditional statements in Python?\n",
        "\n",
        "  -> The primary purpose of conditional statements in Python is to control the flow of execution of code based on whether certain conditions are true or false. They allow programs to make decisions and execute different blocks of code depending on the circumstances.\n",
        "\n",
        "Q12. How does the elif statement work?\n",
        "\n",
        "  -> The elif statement in Python provides a way to check multiple conditions in sequence. It stands for \"else if\" and allows to extend the decision-making process beyond a simple if/else structure.\n",
        "\n",
        "    #Example:\n",
        "\n",
        "    grade = 85\n",
        "    if grade>=90\n",
        "        print(\"Grade A\")\n",
        "    elif grade>=80:\n",
        "        print(\"Grade B\")\n",
        "    elif grade>=70:\n",
        "        print(\"Grade C\")\n",
        "    elif grade>=60:\n",
        "        print(\"Grade D\")\n",
        "    else:\n",
        "        print(\"Fail\")\n",
        "  \n",
        "Q13. What is the difference between for and while loops?\n",
        "\n",
        "  -> for and while loops are used to repeat code, but they differ in structure and use cases:\n",
        "  *   For Loop:\n",
        "    * Iterates over a sequence (list, tuple, string, range etc)\n",
        "    * Used when the number of iterations is known or tied to elements in a sequence.\n",
        "    * Example:\n",
        "            for i in range(5)    #Iterates 0 to 4\n",
        "              print(i)\n",
        "  \n",
        "  *   While Loop:\n",
        "      * Repeats as long as a condition is true.\n",
        "      * Used when the number of iteratons is unknown and depends on a condition.\n",
        "      * Example:\n",
        "            i=0\n",
        "            while i<5:    #Runs until i<5 is false\n",
        "             print(i)\n",
        "             i+=1\n",
        "      * Requires manual update of the condition variable to avoid infinite loops\n",
        "\n",
        "Q14. Describe a scenario where a while loop is more suitable than a for loop.\n",
        "\n",
        "  -> A while loop is more suitable than a for loop when the number of iterations is unknown and depends on a dynamic condition that may change during execution.\n",
        "  Scenario: Promoting a user to enter a valid positive number until they do so correctly.\n",
        "\n",
        "      num = 0\n",
        "      while num <=0:\n",
        "         try:\n",
        "             num = int(input(\"Enter a positive number : \"))\n",
        "             if num <= 0:\n",
        "                  print(\"Please enter a number greater than 0.\")\n",
        "         except ValueError:\n",
        "             print(\"Invalid input. Please enter a valid number.\")\n",
        "      print(f\"You entered : {num}\")\n"
      ]
    },
    {
      "cell_type": "markdown",
      "source": [
        "# **Practical Questions**"
      ],
      "metadata": {
        "id": "V3ArPWEW8-Tz"
      }
    },
    {
      "cell_type": "code",
      "execution_count": null,
      "metadata": {
        "colab": {
          "base_uri": "https://localhost:8080/"
        },
        "id": "MGr_Tf8eTvCG",
        "outputId": "1e05fb68-dbe4-4b72-8434-bd1c215a95e5"
      },
      "outputs": [
        {
          "name": "stdout",
          "output_type": "stream",
          "text": [
            "Hello, World!\n"
          ]
        }
      ],
      "source": [
        "#Q1. Write a Python program to print \"Hello, World!\"\n",
        "\n",
        "print(\"Hello, World!\")"
      ]
    },
    {
      "cell_type": "code",
      "execution_count": null,
      "metadata": {
        "colab": {
          "background_save": true,
          "base_uri": "https://localhost:8080/"
        },
        "id": "4NYIOOrcUcc-",
        "outputId": "9e8b5d7b-0fa5-4e51-d866-0c3ef84244e3"
      },
      "outputs": [
        {
          "name": "stdout",
          "output_type": "stream",
          "text": [
            "My name is Arhsad Hussain and I am 24 years old.\n"
          ]
        }
      ],
      "source": [
        "#Q2. Write a Python program that displays your name and age.\n",
        "\n",
        "name =\"Arhsad Hussain\"\n",
        "age = 24\n",
        "print(f\"My name is {name} and I am {age} years old.\")\n"
      ]
    },
    {
      "cell_type": "code",
      "execution_count": null,
      "metadata": {
        "id": "oq8vdndGWDgE",
        "colab": {
          "base_uri": "https://localhost:8080/"
        },
        "outputId": "fc397aad-b08a-4196-cdd2-f3f23c46852c"
      },
      "outputs": [
        {
          "output_type": "stream",
          "name": "stdout",
          "text": [
            "['False', 'None', 'True', 'and', 'as', 'assert', 'async', 'await', 'break', 'class', 'continue', 'def', 'del', 'elif', 'else', 'except', 'finally', 'for', 'from', 'global', 'if', 'import', 'in', 'is', 'lambda', 'nonlocal', 'not', 'or', 'pass', 'raise', 'return', 'try', 'while', 'with', 'yield']\n"
          ]
        }
      ],
      "source": [
        "#Q3. Write code to print all the pre-defined keywords in Python using the keyword library.\n",
        "\n",
        "import keyword\n",
        "print(keyword.kwlist)"
      ]
    },
    {
      "cell_type": "code",
      "source": [
        "#Q4. Write a program that checks if a given word is a Python keyword.\n",
        "\n",
        "import keyword\n",
        "\n",
        "def is_keyword(word):\n",
        "\n",
        "  return keyword.iskeyword(word)\n",
        "\n",
        "word_to_check=input(\"Enter a word:\")\n",
        "\n",
        "if is_keyword(word_to_check):\n",
        "  print(f\"'{word_to_check}' is a Python keyword\")\n",
        "else:\n",
        "  print(f\"'{word_to_check}' is not a Python keyword\")"
      ],
      "metadata": {
        "colab": {
          "base_uri": "https://localhost:8080/"
        },
        "id": "ZwGJDsn0gXy3",
        "outputId": "13273146-e55c-4fc8-ac6a-3fa745405d2d"
      },
      "execution_count": null,
      "outputs": [
        {
          "output_type": "stream",
          "name": "stdout",
          "text": [
            "Enter a word:is\n",
            "'is' is a Python keyword\n"
          ]
        }
      ]
    },
    {
      "cell_type": "code",
      "source": [
        "#Q5. Create a list and tuple in Python, and demonstrate how attempting to change an element works differently for each.\n",
        "\n",
        "my_list = [1,2,3,4]\n",
        "print(\"Original list : \", my_list)\n",
        "\n",
        "my_list[0] = 10\n",
        "print(\"Modified list : \", my_list)\n",
        "\n",
        "\n",
        "my_tuple = (1,2,3,4)\n",
        "print(\"\\nOriginal tuple : \", my_tuple)\n",
        "\n",
        "\"\"\"\n",
        "This method can also be tried.\n",
        "\n",
        "my_tuple[0] = 10\n",
        "print(\"Modified tuple : \", my_tuple)\n",
        "\n",
        "\"\"\"\n",
        "try:\n",
        "  my_tuple[0] = 10\n",
        "  print(\"Modified tuple : \", my_tuple)\n",
        "except TypeError as e:\n",
        "    print(\"Error : \", e)\n"
      ],
      "metadata": {
        "colab": {
          "base_uri": "https://localhost:8080/"
        },
        "id": "mDVBg7ytmKTj",
        "outputId": "57a14eaa-6bbb-4131-a649-199dc5f92af3"
      },
      "execution_count": null,
      "outputs": [
        {
          "output_type": "stream",
          "name": "stdout",
          "text": [
            "Original list :  [1, 2, 3, 4]\n",
            "Modified list :  [10, 2, 3, 4]\n",
            "\n",
            "Original tuple :  (1, 2, 3, 4)\n",
            "Error :  'tuple' object does not support item assignment\n"
          ]
        }
      ]
    },
    {
      "cell_type": "code",
      "source": [
        "#Q6. Write a function to demonstrate the behavior of mutable and immutable arguments.\n",
        "\n",
        "def change_args(num, list1):\n",
        "    num = 10\n",
        "    list1[0] = 99\n",
        "    print(\"Inside: num =\", num, \", list1 =\", list1)\n",
        "\n",
        "# Test\n",
        "number = 4  # Immutable\n",
        "my_list = [1, 2, 3]  # Mutable\n",
        "\n",
        "print(\"Before: number =\", number, \", my_list =\", my_list)\n",
        "change_args(number, my_list)\n",
        "print(\"After: number =\", number, \", my_list =\", my_list)"
      ],
      "metadata": {
        "colab": {
          "base_uri": "https://localhost:8080/"
        },
        "id": "4Aqoa4L8vZYv",
        "outputId": "93952e2f-36a6-481e-8266-51a7373fdf3b"
      },
      "execution_count": null,
      "outputs": [
        {
          "output_type": "stream",
          "name": "stdout",
          "text": [
            "Before: number = 4 , my_list = [1, 2, 3]\n",
            "Inside: num = 10 , list1 = [99, 2, 3]\n",
            "After: number = 4 , my_list = [99, 2, 3]\n"
          ]
        }
      ]
    },
    {
      "cell_type": "code",
      "source": [
        "#Q7. Write a program that performs basic arithmetic operations on two user-input numbers.\n",
        "\n",
        "num1 = float(input(\"Enter first number: \"))\n",
        "num2 = float(input(\"Enter second number: \"))\n",
        "\n",
        "addition = num1 + num2\n",
        "subtraction = num1 - num2\n",
        "multiplication = num1 * num2\n",
        "\n",
        "if num2 != 0:\n",
        "    division = num1 / num2\n",
        "else:\n",
        "    division = \"undefined (cannot divide by zero)\"\n",
        "#Print results\n",
        "print(f\"{num1} + {num2} = {addition}\")\n",
        "print(f\"{num1} - {num2} = {subtraction}\")\n",
        "print(f\"{num1} * {num2} = {multiplication}\")\n",
        "print(f\"{num1} / {num2} = {division}\")"
      ],
      "metadata": {
        "colab": {
          "base_uri": "https://localhost:8080/"
        },
        "id": "4aOCBprr2e3r",
        "outputId": "2e637e16-9889-4173-d997-e4703b102cfd"
      },
      "execution_count": null,
      "outputs": [
        {
          "output_type": "stream",
          "name": "stdout",
          "text": [
            "Enter first number: 2\n",
            "Enter second number: 5\n",
            "2.0 + 5.0 = 7.0\n",
            "2.0 - 5.0 = -3.0\n",
            "2.0 * 5.0 = 10.0\n",
            "2.0 / 5.0 = 0.4\n"
          ]
        }
      ]
    },
    {
      "cell_type": "code",
      "source": [
        "#Q8. Write a program to demonstrate the use of logical operators.\n",
        "\n",
        "num1 = float(input(\"Enter first number: \"))\n",
        "num2 = float(input(\"Enter second number: \"))\n",
        "\n",
        "is_both_positive = num1 > 0 and num2 > 0\n",
        "is_either_positive = num1 > 0 or num2 > 0\n",
        "is_first_not_positive = not num1 > 0\n",
        "\n",
        "# Print results\n",
        "print(f\"Both numbers are positive: {is_both_positive}\")\n",
        "print(f\"At least one number is positive: {is_either_positive}\")\n",
        "print(f\"First number is not positive: {is_first_not_positive}\")"
      ],
      "metadata": {
        "colab": {
          "base_uri": "https://localhost:8080/"
        },
        "id": "fCtWudv43nTH",
        "outputId": "cd5400c1-6c26-4e68-93d3-1f421dd6ea6d"
      },
      "execution_count": null,
      "outputs": [
        {
          "output_type": "stream",
          "name": "stdout",
          "text": [
            "Enter first number: 654\n",
            "Enter second number: 45\n",
            "Both numbers are positive: True\n",
            "At least one number is positive: True\n",
            "First number is not positive: False\n"
          ]
        }
      ]
    },
    {
      "cell_type": "code",
      "source": [
        "#Q9. Write a Python program to convert user input from string to integer, float, and boolean types.\n",
        "\n",
        "# take input from user\n",
        "user_input = input(\"Enter a value: \")\n",
        "\n",
        "# Convert to integer\n",
        "try:\n",
        "    int_value = int(user_input)\n",
        "    print(f\"Integer: {int_value}\")\n",
        "except ValueError:\n",
        "    print(\"Cannot convert to integer\")\n",
        "\n",
        "# Convert to float\n",
        "try:\n",
        "    float_value = float(user_input)\n",
        "    print(f\"Float: {float_value}\")\n",
        "except ValueError:\n",
        "    print(\"Cannot convert to float\")\n",
        "\n",
        "# Convert to boolean\n",
        "# Consider 'true', 't', '1', 'y' as True; 'false', 'f', '0', 'n' as False\n",
        "bool_value = user_input.lower() in ('true', 't', '1', 'y')\n",
        "print(f\"Boolean: {bool_value}\")"
      ],
      "metadata": {
        "colab": {
          "base_uri": "https://localhost:8080/"
        },
        "id": "g2gy6Dy-4Tkv",
        "outputId": "6fda76e2-3805-4ec9-df1f-7aa9d1e7d1bf"
      },
      "execution_count": null,
      "outputs": [
        {
          "output_type": "stream",
          "name": "stdout",
          "text": [
            "Enter a value: 6\n",
            "Integer: 6\n",
            "Float: 6.0\n",
            "Boolean: False\n"
          ]
        }
      ]
    },
    {
      "cell_type": "code",
      "source": [
        "#Q10. Write code to demonstrate type casting with list elements.\n",
        "\n",
        "# Original list with mixed types\n",
        "mixed_list = [\"100\", 30.5, \"True\", \"59.09\", 10]\n",
        "\n",
        "print(\"Original list:\", mixed_list)\n",
        "\n",
        "# Convert elements to different types\n",
        "int_list = []\n",
        "float_list = []\n",
        "bool_list = []\n",
        "\n",
        "for item in mixed_list:\n",
        "    # Convert to integer\n",
        "    try:\n",
        "        int_list.append(int(float(item)))  # float() handles strings like \"89.01\"\n",
        "    except (ValueError, TypeError):\n",
        "        int_list.append(\"N/A\")\n",
        "\n",
        "    # Convert to float\n",
        "    try:\n",
        "        float_list.append(float(item))\n",
        "    except (ValueError, TypeError):\n",
        "        float_list.append(\"N/A\")\n",
        "\n",
        "    # Convert to boolean\n",
        "    # True for 'true', 't', '1', 'y', non-zero numbers; False otherwise\n",
        "    if isinstance(item, str):\n",
        "        bool_list.append(item.lower() in ('true', 't', '1', 'y'))\n",
        "    else:\n",
        "        bool_list.append(bool(item))\n",
        "\n",
        "# Print results\n",
        "print(\"Converted to integers:\", int_list)\n",
        "print(\"Converted to floats:\", float_list)\n",
        "print(\"Converted to booleans:\", bool_list)"
      ],
      "metadata": {
        "colab": {
          "base_uri": "https://localhost:8080/"
        },
        "id": "RvT5OcJq5a9f",
        "outputId": "be9a8f59-5501-4caf-8fc3-aec224c4e08c"
      },
      "execution_count": null,
      "outputs": [
        {
          "output_type": "stream",
          "name": "stdout",
          "text": [
            "Original list: ['100', 30.5, 'True', '59.09', 10]\n",
            "Converted to integers: [100, 30, 'N/A', 59, 10]\n",
            "Converted to floats: [100.0, 30.5, 'N/A', 59.09, 10.0]\n",
            "Converted to booleans: [False, True, True, False, True]\n"
          ]
        }
      ]
    },
    {
      "cell_type": "code",
      "source": [
        "#Q11. Write a program that checks if a number is positive, negative, or zero.\n",
        "\n",
        "#take input from user\n",
        "number = float(input(\"Enter a number: \"))\n",
        "\n",
        "# Check if positive, negative, or zero\n",
        "if number > 0:\n",
        "    print(\"The number is positive\")\n",
        "elif number < 0:\n",
        "    print(\"The number is negative\")\n",
        "else:\n",
        "    print(\"The number is zero\")"
      ],
      "metadata": {
        "colab": {
          "base_uri": "https://localhost:8080/"
        },
        "id": "ThopulUz6O9s",
        "outputId": "08b6432a-0596-43f2-f7c9-466fc84f5904"
      },
      "execution_count": null,
      "outputs": [
        {
          "output_type": "stream",
          "name": "stdout",
          "text": [
            "Enter a number: 0\n",
            "The number is zero\n"
          ]
        }
      ]
    },
    {
      "cell_type": "code",
      "source": [
        "#Q12. Write a for loop to print numbers from 1 to 10.\n",
        "\n",
        "for i in range(1,11):\n",
        " print(i)"
      ],
      "metadata": {
        "colab": {
          "base_uri": "https://localhost:8080/"
        },
        "id": "kofjc95J61bT",
        "outputId": "3bc23cdb-ca4a-497d-8732-da23e7259084"
      },
      "execution_count": null,
      "outputs": [
        {
          "output_type": "stream",
          "name": "stdout",
          "text": [
            "1\n",
            "2\n",
            "3\n",
            "4\n",
            "5\n",
            "6\n",
            "7\n",
            "8\n",
            "9\n",
            "10\n"
          ]
        }
      ]
    },
    {
      "cell_type": "code",
      "source": [
        "#Q13. Write a Python program to find the sum of all even numbers between 1 and 50.\n",
        "\n",
        "even_sum = 0\n",
        "\n",
        "for num in range(1, 51):\n",
        "    if num % 2 == 0:  # Check if number is even\n",
        "        even_sum += num\n",
        "\n",
        "# Print result\n",
        "print(\"Sum of even numbers between 1 and 50:\", even_sum)"
      ],
      "metadata": {
        "colab": {
          "base_uri": "https://localhost:8080/"
        },
        "id": "8fWVczq87O2l",
        "outputId": "f95950b8-110c-4604-9f3c-93381c06909d"
      },
      "execution_count": null,
      "outputs": [
        {
          "output_type": "stream",
          "name": "stdout",
          "text": [
            "Sum of even numbers between 1 and 50: 650\n"
          ]
        }
      ]
    },
    {
      "cell_type": "code",
      "source": [
        "#Q14. Write a program to reverse a string using a while loop\n",
        "\n",
        "input_string = input(\"Enter a string: \")\n",
        "\n",
        "# Initialize variables\n",
        "reversed_string = \"\"\n",
        "index = len(input_string) - 1\n",
        "\n",
        "# Reverse string using while loop\n",
        "while index >= 0:\n",
        "    reversed_string += input_string[index]\n",
        "    index -= 1\n",
        "\n",
        "# Print result\n",
        "print(\"Reversed string:\", reversed_string)"
      ],
      "metadata": {
        "colab": {
          "base_uri": "https://localhost:8080/"
        },
        "id": "6UogPUHI7uEv",
        "outputId": "672e11c3-1ee4-4000-902d-6babde0e3ed2"
      },
      "execution_count": null,
      "outputs": [
        {
          "output_type": "stream",
          "name": "stdout",
          "text": [
            "Enter a string: arshad\n",
            "Reversed string: dahsra\n"
          ]
        }
      ]
    },
    {
      "cell_type": "code",
      "source": [
        "#Q15. Write a Python program to calculate the factorial of a number provided by the user using a while loop.\n",
        "\n",
        "# take input from user\n",
        "num = int(input(\"Enter a non-negative integer: \"))\n",
        "\n",
        "# Validate input\n",
        "if num < 0:\n",
        "    print(\"Factorial is not defined for negative numbers\")\n",
        "else:\n",
        "    # Initialize variables\n",
        "    factorial = 1\n",
        "    current = num\n",
        "\n",
        "    # Calculate factorial using while loop\n",
        "    while current > 0:\n",
        "        factorial *= current\n",
        "        current -= 1\n",
        "\n",
        "    # Print result\n",
        "    print(f\"Factorial of {num} is: {factorial}\")"
      ],
      "metadata": {
        "colab": {
          "base_uri": "https://localhost:8080/"
        },
        "id": "QI8XPYMH8ONt",
        "outputId": "16ab94c1-5683-4980-a6e9-3902a6d1b6f9"
      },
      "execution_count": null,
      "outputs": [
        {
          "output_type": "stream",
          "name": "stdout",
          "text": [
            "Enter a non-negative integer: 5\n",
            "Factorial of 5 is: 120\n"
          ]
        }
      ]
    }
  ],
  "metadata": {
    "colab": {
      "provenance": []
    },
    "kernelspec": {
      "display_name": "Python 3",
      "name": "python3"
    },
    "language_info": {
      "name": "python"
    }
  },
  "nbformat": 4,
  "nbformat_minor": 0
}