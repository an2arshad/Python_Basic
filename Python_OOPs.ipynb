{
  "nbformat": 4,
  "nbformat_minor": 0,
  "metadata": {
    "colab": {
      "provenance": []
    },
    "kernelspec": {
      "name": "python3",
      "display_name": "Python 3"
    },
    "language_info": {
      "name": "python"
    }
  },
  "cells": [
    {
      "cell_type": "markdown",
      "source": [
        "# **Python OOPs Theory Questions**\n",
        "\n",
        "Q1. What is Object-Oriented Programming (OOP)?\n",
        "\n",
        "-> Object-Oriented Programming (OOP) is a programming paradigm that uses \"objects\" to represent data and methods to manipulate that data. OOP is based on several key principles, including encapsulation, inheritance, and polymorphism. It allows for more modular, reusable, and organized code, making it easier to manage and maintain.\n",
        "\n",
        "Q2. What is a class in OOP?\n",
        "\n",
        "-> A class in OOP is a blueprint or template for creating objects. It defines a set of attributes (data) and methods (functions) that the created objects will have. Classes encapsulate data for the object and provide methods to manipulate that data.\n",
        "\n",
        "Q3.What is an object in OOP?\n",
        "\n",
        "-> An object is an instance of a class. It is created based on the class definition and contains specific data (attributes) and methods that operate on that data. Objects represent real-world entities and can interact with one another.\n",
        "\n",
        "Q4. What is the difference between abstraction and encapsulation?\n",
        "\n",
        "-> THe main difference between abstraction and encapsulation is :-\n",
        "\n",
        "* Abstraction is the concept of hiding the complex implementation details and showing only the essential features of an object. It allows users to interact with the object without needing to understand its internal workings.\n",
        "* Encapsulation is the bundling of data (attributes) and methods (functions) that operate on that data within a single unit (class). It restricts direct access to some of the object's components, which helps to protect the integrity of the data.\n",
        "\n",
        "Q5. What are dunder methods in Python?\n",
        "\n",
        "-> Dunder methods, or \"double underscore\" methods, are special methods in Python that have double underscores at the beginning and end of their names (e.g., '__init__', '__str__'). They allow you to define the behavior of objects for built-in operations, such as initialization, string representation, and arithmetic operations.\n",
        "\n",
        "Q6. Explain the concept of inheritance in OOP.\n",
        "\n",
        "-> Inheritance is a mechanism in OOP that allows a new class (subclass or derived class) to inherit attributes and methods from an existing class (superclass or base class). This promotes code reusability and establishes a hierarchical relationship between classes. The subclass can also override or extend the functionality of the superclass.\n",
        "\n",
        "Q7. What is polymorphism in OOP?\n",
        "\n",
        "-> Polymorphism is the ability of different classes to be treated as instances of the same class through a common interface. It allows methods to be defined in a way that they can operate on objects of different classes. This can be achieved through method overriding (inherited classes providing specific implementations) and method overloading (same method name with different parameters).\n",
        "\n",
        "Q8. How is encapsulation achieved in Python?\n",
        "\n",
        "-> Encapsulation in Python is achieved by using access modifiers to restrict access to certain attributes and methods. Python uses naming conventions to indicate the intended level of access:\n",
        "\n",
        "  * Public attributes and methods are accessible from outside the class.\n",
        "  * Protected attributes and methods (indicated by a single underscore, e.g., '_attribute') are intended for internal use and should not be accessed directly from outside the class.\n",
        "  * Private attributes and methods (indicated by a double underscore, e.g., '__attribute') are not accessible from outside the class and are name-mangled to prevent accidental access.\n",
        "\n",
        "Q9. What is a constructor in Python?\n",
        "\n",
        "-> A constructor in Python is a special method called '__init__' that is automatically invoked when an object of a class is created. It is used to initialize the object's attributes and set up any necessary state. The constructor can take parameters to customize the initialization process.\n",
        "\n",
        "Q10. What are class and static methods in Python?\n",
        "\n",
        "-> Class and static methods in python are stated below:\n",
        "* **Class methods** are methods that are bound to the class rather than its instance. They are defined using the '@classmethod' decorator and take 'cls' as the first parameter, which refers to the class itself. Class methods can access and modify class-level attributes.\n",
        "* **Static methods** are methods that do not depend on class or instance attributes. They are defined using the '@staticmethod' decorator and do not take 'self' or 'cls' as parameters. Static methods can be called on the class itself or on instances, but they do not have access to the class or instance data.\n",
        "\n",
        "Q11. What is method overloading in Python?\n",
        "\n",
        "-> Method overloading refers to the ability to define multiple methods with the same name but different parameters (signature) within the same class. However, Python does not support method overloading in the traditional sense as seen in some other languages. Instead, you can achieve similar functionality by using default arguments or variable-length arguments.\n",
        "\n",
        "Q12. What is method overriding in OOP?\n",
        "\n",
        "-> Method overriding occurs when a subclass provides a specific implementation of a method that is already defined in its superclass. The subclass method has the same name and parameters as the superclass method. This allows the subclass to customize or extend the behavior of the inherited method.\n",
        "\n",
        "Q13. What is a property decorator in Python?\n",
        "\n",
        "-> The property decorator in Python is used to define a method as a property, allowing you to access it like an attribute. It is defined using the @property decorator. This allows for controlled access to private attributes, enabling you to add getter, setter, and deleter methods for an attribute while maintaining a clean interface.\n",
        "\n",
        "Q14. Why is polymorphism important in OOP?\n",
        "\n",
        "-> Polymorphism is important in OOP because it allows for flexibility and the ability to use a single interface to represent different underlying forms (data types). It enables code reusability and makes it easier to extend and maintain code. Polymorphism allows for writing more generic and abstract code, which can work with objects of different classes.\n",
        "\n",
        "Q15. What is an abstract class in Python?\n",
        "\n",
        "-> An abstract class in Python is a class that cannot be instantiated and is meant to be subclassed. It can contain abstract methods (methods without implementation) that must be implemented by any concrete subclass. Abstract classes are defined using the abc module and the ABC class. They provide a blueprint for other classes.\n",
        "\n",
        "Q16. What are the advantages of OOP?\n",
        "\n",
        "-> The advantages of OOP include:\n",
        "\n",
        "* Modularity: Code is organized into classes, making it easier to manage and understand.\n",
        "* Reusability: Classes can be reused across different programs, reducing redundancy.\n",
        "* Encapsulation: Data and methods are bundled together, protecting the integrity of the data.\n",
        "* Inheritance: New classes can inherit properties and methods from existing classes, promoting code reuse.\n",
        "* Polymorphism: Allows for flexibility in code, enabling the same interface to be used for different data types.\n",
        "\n",
        "Q17. What is the difference between a class variable and an instance variable?\n",
        "\n",
        "-> The difference between a class variable and an instance variable:-\n",
        "\n",
        "* **Class Variable:** A class variable is shared among all instances of a class. It is defined within the class and is accessed using the class name or through instances. Changes to a class variable affect all instances.\n",
        "* **Instance Variable:** An instance variable is unique to each instance of a class. It is defined within the constructor (__init__ method) and is accessed using the instance. Changes to an instance variable do not affect other instances.\n",
        "\n",
        "Q18. What is multiple inheritance in Python?\n",
        "\n",
        "-> Multiple inheritance is a feature in Python where a class can inherit from more than one superclass. This allows a subclass to combine attributes and methods from multiple parent classes. However, it can lead to complexity and ambiguity, especially with the method resolution order (MRO).\n",
        "\n",
        "Q19. Explain the purpose of '__str__' and '__repr__' methods in Python.\n",
        "\n",
        "-> The main purpose of '__str__' and '__repr__' methods in Python :-\n",
        "* __str__: This method is used to define a human-readable string representation of an object. It is called by the str() function and when using print().\n",
        "* __repr__: This method is used to define an unambiguous string representation of an object, primarily for debugging. It is called by the repr() function and should ideally return a string that can be used to recreate the object.\n",
        "\n",
        "Q20. What is the significance of the super() function in Python?\n",
        "\n",
        "-> The super() function is used to call methods from a superclass in a subclass. It allows you to access inherited methods that have been overridden in a subclass. This is particularly useful in the context of multiple inheritance, as it helps to ensure that the correct method resolution order is followed.\n",
        "\n",
        "Q21. What is the significance of the __del__ method in Python?\n",
        "\n",
        "-> The __del__ method is a destructor method that is called when an object is about to be destroyed. It can be used to perform cleanup actions, such as closing files or releasing resources. However, its use is generally discouraged due to the unpredictability of when it will be called, especially in the presence of circular references.\n",
        "\n",
        "Q22. What is the difference between @staticmethod and @classmethod in Python?\n",
        "\n",
        "-> The difference between @staticmethod and @classmethod in Python is:-\n",
        "\n",
        "* @staticmethod: This decorator defines a method that does not require access to the instance (self) or the class (cls). It behaves like a regular function but belongs to the class's namespace.\n",
        "* @classmethod: This decorator defines a method that takes the class (cls) as the first parameter. It can access class variables and methods and is often used for factory methods that create instances of the class.\n",
        "\n",
        "Q23. How does polymorphism work in Python with inheritance?\n",
        "\n",
        "-> Polymorphism in Python with inheritance allows subclasses to define methods that have the same name as methods in their superclass. When a method is called on an object, Python will execute the method defined in the object's class, allowing for different behaviors based on the object's type. This enables the same interface to be used for different classes.\n",
        "\n",
        "Q24. What is method chaining in Python OOP?\n",
        "\n",
        "-> Method chaining is a technique where multiple method calls are made on the same object in a single statement. This is achieved by having methods return the object itself (usually self) after performing their operations. It allows for more concise and readable code.\n",
        "\n",
        "Q25. What is the purpose of the '__call__' method in Python?\n",
        "\n",
        "-> The '__call__' method allows an instance of a class to be called as if it were a function. When an object is called, Python invokes the '__call__' method, enabling the object to perform actions or return values like a function. This can be useful for creating callable objects that encapsulate behavior."
      ],
      "metadata": {
        "id": "xTGsb2UNIP0z"
      }
    },
    {
      "cell_type": "markdown",
      "source": [
        "# **Practical Questions**"
      ],
      "metadata": {
        "id": "TR-Agb6hjrbl"
      }
    },
    {
      "cell_type": "code",
      "source": [
        "#1. Create a parent class Animal with a method speak() that prints a generic message. Create a child class Dog that overrides the speak() method to print \"Bark!\".\n",
        "\n",
        "class Animal:\n",
        "  def speak(self):\n",
        "    print(\"Generic message\")\n",
        "\n",
        "class Dog(Animal):\n",
        "  def speak(self):\n",
        "    print(\"Bark!\")\n",
        "\n",
        "dog = Dog()\n",
        "dog.speak()\n"
      ],
      "metadata": {
        "colab": {
          "base_uri": "https://localhost:8080/"
        },
        "id": "5Z51fNIFj8ye",
        "outputId": "698041e0-f844-435d-e688-20edccd79b5d"
      },
      "execution_count": null,
      "outputs": [
        {
          "output_type": "stream",
          "name": "stdout",
          "text": [
            "Bark!\n"
          ]
        }
      ]
    },
    {
      "cell_type": "code",
      "source": [
        "#2. Write a program to create an abstract class Shape with a method area(). Derive classes Circle and Rectangle from it and implement the area() method in both.\n",
        "from abc import ABC, abstractmethod\n",
        "import math\n",
        "\n",
        "class Shape(ABC):\n",
        "  @abstractmethod\n",
        "  def area(self):\n",
        "        pass\n",
        "\n",
        "class Circle(Shape):\n",
        "    def __init__(self, radius):\n",
        "        self.radius = radius\n",
        "\n",
        "    def area(self):\n",
        "        return math.pi * (self.radius ** 2)\n",
        "\n",
        "class Rectangle(Shape):\n",
        "    def __init__(self, width, height):\n",
        "        self.width = width\n",
        "        self.height = height\n",
        "\n",
        "    def area(self):\n",
        "        return self.width * self.height\n",
        "\n",
        "# Example usage\n",
        "circle = Circle(5)\n",
        "rectangle = Rectangle(4, 6)\n",
        "print(circle.area())\n",
        "print(rectangle.area())"
      ],
      "metadata": {
        "colab": {
          "base_uri": "https://localhost:8080/"
        },
        "id": "MK_jQekDlgxB",
        "outputId": "3bfa94f3-2f5d-4da3-f5a2-4eaf841f1f1a"
      },
      "execution_count": null,
      "outputs": [
        {
          "output_type": "stream",
          "name": "stdout",
          "text": [
            "78.53981633974483\n",
            "24\n"
          ]
        }
      ]
    },
    {
      "cell_type": "code",
      "source": [
        "#3. Implement a multi-level inheritance scenario where a class Vehicle has an attribute type. Derive a class Car and further derive a class ElectricCar that adds a battery attribute\n",
        "\n",
        "class Vehicle:\n",
        "    def __init__(self, vehicle_type):\n",
        "        self.type = vehicle_type\n",
        "\n",
        "class Car(Vehicle):\n",
        "    def __init__(self, vehicle_type, model):\n",
        "        super().__init__(vehicle_type)\n",
        "        self.model = model\n",
        "\n",
        "class ElectricCar(Car):\n",
        "    def __init__(self, vehicle_type, model, battery):\n",
        "        super().__init__(vehicle_type, model)\n",
        "        self.battery = battery\n",
        "\n",
        "# Example usage\n",
        "electric_car = ElectricCar(\"Electric\", \"Tesla Model S\", \"100 kWh\")\n",
        "print(electric_car.type, electric_car.model, electric_car.battery)"
      ],
      "metadata": {
        "colab": {
          "base_uri": "https://localhost:8080/"
        },
        "id": "2nIdkNSEmfls",
        "outputId": "b093de2c-f55c-4ba4-e782-fb44e130d234"
      },
      "execution_count": null,
      "outputs": [
        {
          "output_type": "stream",
          "name": "stdout",
          "text": [
            "Electric Tesla Model S 100 kWh\n"
          ]
        }
      ]
    },
    {
      "cell_type": "code",
      "source": [
        "#4. Demonstrate polymorphism by creating a base class Bird with a method fly(). Create two derived classes Sparrow and Penguin that override the fly() method.\n",
        "\n",
        "class Bird:\n",
        "    def fly(self):\n",
        "        pass\n",
        "\n",
        "class Sparrow(Bird):\n",
        "    def fly(self):\n",
        "        print(\"Sparrow flies\")\n",
        "\n",
        "class Penguin(Bird):\n",
        "    def fly(self):\n",
        "        print(\"Penguin cannot fly\")\n",
        "\n",
        "# Example usage\n",
        "birds = [Sparrow(), Penguin()]\n",
        "for bird in birds:\n",
        "    bird.fly()"
      ],
      "metadata": {
        "colab": {
          "base_uri": "https://localhost:8080/"
        },
        "id": "0YUCnYswoN14",
        "outputId": "99dcf445-0ac2-45e0-ffc2-55c3df92c9ff"
      },
      "execution_count": null,
      "outputs": [
        {
          "output_type": "stream",
          "name": "stdout",
          "text": [
            "Sparrow flies\n",
            "Penguin cannot fly\n"
          ]
        }
      ]
    },
    {
      "cell_type": "code",
      "source": [
        "#5. Write a program to demonstrate encapsulation by creating a class BankAccount with private attributes balance and methods to deposit, withdraw, and check balance.\n",
        "class BankAccount:\n",
        "    def __init__(self):\n",
        "        self.__balance = 0\n",
        "\n",
        "    def deposit(self, amount):\n",
        "        if amount > 0:\n",
        "            self.__balance += amount\n",
        "\n",
        "    def withdraw(self, amount):\n",
        "        if 0 < amount <= self.__balance:\n",
        "            self.__balance -= amount\n",
        "\n",
        "    def check_balance(self):\n",
        "        return self.__balance\n",
        "\n",
        "# Example usage\n",
        "account = BankAccount()\n",
        "account.deposit(1000)\n",
        "account.withdraw(300)\n",
        "print(account.check_balance())"
      ],
      "metadata": {
        "colab": {
          "base_uri": "https://localhost:8080/"
        },
        "id": "eQ4u7m3PrHNu",
        "outputId": "3b9defdb-5539-4285-9618-b5c5c7971c41"
      },
      "execution_count": null,
      "outputs": [
        {
          "output_type": "stream",
          "name": "stdout",
          "text": [
            "700\n"
          ]
        }
      ]
    },
    {
      "cell_type": "code",
      "source": [
        "#6. Demonstrate runtime polymorphism using a method play() in a base class Instrument. Derive classes Guitar and Piano that implement their own version of play().\n",
        "\n",
        "class Instrument:\n",
        "    def play(self):\n",
        "        pass\n",
        "\n",
        "class Guitar(Instrument):\n",
        "    def play(self):\n",
        "        print(\"Strumming the guitar\")\n",
        "\n",
        "class Piano(Instrument):\n",
        "    def play(self):\n",
        "        print(\"Playing the piano\")\n",
        "\n",
        "# Example usage\n",
        "instruments = [Guitar(), Piano()]\n",
        "for instrument in instruments:\n",
        "    instrument.play()"
      ],
      "metadata": {
        "colab": {
          "base_uri": "https://localhost:8080/"
        },
        "id": "cv0lGFSErhDt",
        "outputId": "00f4f895-73eb-492d-a625-ba3a8e4680a8"
      },
      "execution_count": null,
      "outputs": [
        {
          "output_type": "stream",
          "name": "stdout",
          "text": [
            "Strumming the guitar\n",
            "Playing the piano\n"
          ]
        }
      ]
    },
    {
      "cell_type": "code",
      "source": [
        "#7. Create a class MathOperations with a class method add_numbers() to add two numbers and a static method subtract_numbers() to subtract two numbers.\n",
        "\n",
        "class MathOperations:\n",
        "    @classmethod\n",
        "    def add_numbers(cls, a, b):\n",
        "        return a + b\n",
        "\n",
        "    @staticmethod\n",
        "    def subtract_numbers(a, b):\n",
        "        return a - b\n",
        "\n",
        "# Example usage\n",
        "print(MathOperations.add_numbers(5, 3))\n",
        "print(MathOperations.subtract_numbers(5, 3))"
      ],
      "metadata": {
        "colab": {
          "base_uri": "https://localhost:8080/"
        },
        "id": "GqJYGAElr2wP",
        "outputId": "a18b95df-c1cb-4037-9cde-9771e4eb5fd6"
      },
      "execution_count": null,
      "outputs": [
        {
          "output_type": "stream",
          "name": "stdout",
          "text": [
            "8\n",
            "2\n"
          ]
        }
      ]
    },
    {
      "cell_type": "code",
      "source": [
        "#8. Implement a class Person with a class method to count the total number of persons created\n",
        "\n",
        "class Person:\n",
        "    count = 0\n",
        "\n",
        "    def __init__(self):\n",
        "        Person.count += 1\n",
        "\n",
        "    @classmethod\n",
        "    def total_persons(cls):\n",
        "        return cls.count\n",
        "\n",
        "# Example usage\n",
        "p1 = Person()\n",
        "p2 = Person()\n",
        "print(Person.total_persons())"
      ],
      "metadata": {
        "colab": {
          "base_uri": "https://localhost:8080/"
        },
        "id": "z-yua_Hssn8D",
        "outputId": "4880b46f-c22d-4d73-d0bc-39a3708ceb13"
      },
      "execution_count": null,
      "outputs": [
        {
          "output_type": "stream",
          "name": "stdout",
          "text": [
            "2\n"
          ]
        }
      ]
    },
    {
      "cell_type": "code",
      "source": [
        "#9. Write a class Fraction with attributes numerator and denominator. Override the str method to display the fraction as \"numerator/denominator\".\n",
        "\n",
        "class Fraction:\n",
        "    def __init__(self, numerator, denominator):\n",
        "        self.numerator = numerator\n",
        "        self.denominator = denominator\n",
        "\n",
        "    def __str__(self):\n",
        "        return f\"{self.numerator}/{self.denominator}\"\n",
        "\n",
        "# Example usage\n",
        "fraction = Fraction(3, 4)\n",
        "print(fraction)"
      ],
      "metadata": {
        "colab": {
          "base_uri": "https://localhost:8080/"
        },
        "id": "LUVT9Nfq_slO",
        "outputId": "b144e845-b61f-42db-a9ec-5cc5d4106bc3"
      },
      "execution_count": null,
      "outputs": [
        {
          "output_type": "stream",
          "name": "stdout",
          "text": [
            "3/4\n"
          ]
        }
      ]
    },
    {
      "cell_type": "code",
      "source": [
        "#10. Demonstrate operator overloading by creating a class Vector and overriding the add method to add two vectors.\n",
        "\n",
        "class Vector:\n",
        "    def __init__(self, x, y):\n",
        "        self.x = x\n",
        "        self.y = y\n",
        "\n",
        "    def __add__(self, other):\n",
        "        return Vector(self.x + other.x, self.y + other.y)\n",
        "\n",
        "    def __str__(self):\n",
        "        return f\"Vector({self.x}, {self.y})\"\n",
        "\n",
        "# Example usage\n",
        "v1 = Vector(2, 3)\n",
        "v2 = Vector(4, 5)\n",
        "v3 = v1 + v2\n",
        "print(v3)"
      ],
      "metadata": {
        "colab": {
          "base_uri": "https://localhost:8080/"
        },
        "id": "mvIFif-qBL8a",
        "outputId": "84a96c8a-fde3-4e01-9090-a9ee48e79557"
      },
      "execution_count": null,
      "outputs": [
        {
          "output_type": "stream",
          "name": "stdout",
          "text": [
            "Vector(6, 8)\n"
          ]
        }
      ]
    },
    {
      "cell_type": "code",
      "source": [
        "#11. Create a class Person with attributes name and age. Add a method greet() that prints \"Hello, my name is {name} and I am {age} years old.\"\n",
        "\n",
        "class Person:\n",
        "    def __init__(self, name, age):\n",
        "        self.name = name\n",
        "        self.age = age\n",
        "\n",
        "    def greet(self):\n",
        "        print(f\"Hello, my name is {self.name} and I am {self.age} years old.\")\n",
        "\n",
        "# Example usage\n",
        "person = Person(\"Arshad\", 30)\n",
        "person.greet()"
      ],
      "metadata": {
        "colab": {
          "base_uri": "https://localhost:8080/"
        },
        "id": "NYDetjnsEQ0v",
        "outputId": "0b58de4b-a0b2-4264-81bd-e1ba9f9b082b"
      },
      "execution_count": null,
      "outputs": [
        {
          "output_type": "stream",
          "name": "stdout",
          "text": [
            "Hello, my name is Arshad and I am 30 years old.\n"
          ]
        }
      ]
    },
    {
      "cell_type": "code",
      "source": [
        "#12. Implement a class Student with attributes name and grades. Create a method average_grade() to compute the average of the grades.\n",
        "\n",
        "class Student:\n",
        "    def __init__(self, name, grades):\n",
        "        self.name = name\n",
        "        self.grades = grades\n",
        "\n",
        "\n",
        "    def average_grade(self):\n",
        "        return sum(self.grades) / len(self.grades) if self.grades else 0\n",
        "\n",
        "\n",
        "# Example usage\n",
        "student = Student(\"Ajay\", [85, 90, 78])\n",
        "print(f\"{student.name}'s average grade is {student.average_grade():.2f}\")"
      ],
      "metadata": {
        "colab": {
          "base_uri": "https://localhost:8080/"
        },
        "id": "OrbBI0SBFMiI",
        "outputId": "4ab0ce7a-3bb1-4c64-83c9-c519767de13d"
      },
      "execution_count": null,
      "outputs": [
        {
          "output_type": "stream",
          "name": "stdout",
          "text": [
            "Ajay's average grade is 84.33\n"
          ]
        }
      ]
    },
    {
      "cell_type": "code",
      "source": [
        "#13. Create a class Rectangle with methods set_dimensions() to set the dimensions and area() to calculate the area.\n",
        "\n",
        "class Rectangle:\n",
        "    def __init__(self):\n",
        "        self.width = 0\n",
        "        self.height = 0\n",
        "\n",
        "\n",
        "    def set_dimensions(self, width, height):\n",
        "        self.width = width\n",
        "        self.height = height\n",
        "\n",
        "\n",
        "    def area(self):\n",
        "        return self.width * self.height\n",
        "\n",
        "\n",
        "# Example usage\n",
        "rectangle = Rectangle()\n",
        "rectangle.set_dimensions(4, 5)\n",
        "print(f\"Area of the rectangle is {rectangle.area()}\")"
      ],
      "metadata": {
        "colab": {
          "base_uri": "https://localhost:8080/"
        },
        "id": "AGLjFqBtFwvF",
        "outputId": "93f4ae47-dd8e-4c9a-dff8-62794a17cbe6"
      },
      "execution_count": null,
      "outputs": [
        {
          "output_type": "stream",
          "name": "stdout",
          "text": [
            "Area of the rectangle is 20\n"
          ]
        }
      ]
    },
    {
      "cell_type": "code",
      "source": [
        "#14. Create a class Employee with a method calculate_salary() that computes the salary based on hours worked and hourly rate. Create a derived class Manager that adds a bonus to the salary.\n",
        "\n",
        "class Employee:\n",
        "    def __init__(self, hours_worked, hourly_rate):\n",
        "        self.hours_worked = hours_worked\n",
        "        self.hourly_rate = hourly_rate\n",
        "\n",
        "\n",
        "    def calculate_salary(self):\n",
        "        return self.hours_worked * self.hourly_rate\n",
        "\n",
        "\n",
        "class Manager(Employee):\n",
        "    def __init__(self, hours_worked, hourly_rate, bonus):\n",
        "        super().__init__(hours_worked, hourly_rate)\n",
        "        self.bonus = bonus\n",
        "\n",
        "\n",
        "    def calculate_salary(self):\n",
        "        return super().calculate_salary() + self.bonus\n",
        "\n",
        "\n",
        "# Example usage\n",
        "employee = Employee(40, 20)\n",
        "print(f\"Employee salary: ${employee.calculate_salary()}\")\n",
        "\n",
        "\n",
        "manager = Manager(40, 20, 500)\n",
        "print(f\"Manager salary: ${manager.calculate_salary()}\")"
      ],
      "metadata": {
        "colab": {
          "base_uri": "https://localhost:8080/"
        },
        "id": "1xNYgDzZGCk0",
        "outputId": "a9e6e013-9623-4898-97c7-0cd8636b9249"
      },
      "execution_count": null,
      "outputs": [
        {
          "output_type": "stream",
          "name": "stdout",
          "text": [
            "Employee salary: $800\n",
            "Manager salary: $1300\n"
          ]
        }
      ]
    },
    {
      "cell_type": "code",
      "source": [
        "#15. Create a class Product with attributes name, price, and quantity. Implement a method total_price() that calculates the total price of the product.\n",
        "\n",
        "class Product:\n",
        "    def __init__(self, name, price, quantity):\n",
        "        self.name = name\n",
        "        self.price = price\n",
        "        self.quantity = quantity\n",
        "\n",
        "\n",
        "    def total_price(self):\n",
        "        return self.price * self.quantity\n",
        "\n",
        "\n",
        "# Example usage\n",
        "product = Product(\"Laptop\", 1000, 3)\n",
        "print(f\"Total price of {product.name}: ${product.total_price()}\")"
      ],
      "metadata": {
        "colab": {
          "base_uri": "https://localhost:8080/"
        },
        "id": "G3WRVcgaGaUz",
        "outputId": "45006cd9-aac3-495f-87af-9634308a237a"
      },
      "execution_count": null,
      "outputs": [
        {
          "output_type": "stream",
          "name": "stdout",
          "text": [
            "Total price of Laptop: $3000\n"
          ]
        }
      ]
    },
    {
      "cell_type": "code",
      "source": [
        "#16. Create a class Animal with an abstract method sound(). Create two derived classes Cow and Sheep that implement the sound() method.\n",
        "\n",
        "from abc import ABC, abstractmethod\n",
        "\n",
        "\n",
        "class Animal(ABC):\n",
        "    @abstractmethod\n",
        "    def sound(self):\n",
        "        pass\n",
        "\n",
        "\n",
        "class Cow(Animal):\n",
        "    def sound(self):\n",
        "        return \"Moo\"\n",
        "\n",
        "\n",
        "class Sheep(Animal):\n",
        "    def sound(self):\n",
        "        return \"Baa\"\n",
        "\n",
        "\n",
        "# Example usage\n",
        "animals = [Cow(), Sheep()]\n",
        "for animal in animals:\n",
        "    print(animal.sound())"
      ],
      "metadata": {
        "colab": {
          "base_uri": "https://localhost:8080/"
        },
        "id": "82ekkAC4G8qZ",
        "outputId": "dfc8f2d8-e5e5-4ec7-db88-4b176d02c2da"
      },
      "execution_count": null,
      "outputs": [
        {
          "output_type": "stream",
          "name": "stdout",
          "text": [
            "Moo\n",
            "Baa\n"
          ]
        }
      ]
    },
    {
      "cell_type": "code",
      "source": [
        "#17. Create a class Book with attributes title, author, and year_published. Add a method get_book_info() that returns a formatted string with the book's details.\n",
        "\n",
        "class Book:\n",
        "    def __init__(self, title, author, year_published):\n",
        "        self.title = title\n",
        "        self.author = author\n",
        "        self.year_published = year_published\n",
        "\n",
        "\n",
        "    def get_book_info(self):\n",
        "        return f\"'{self.title}' by {self.author}, published in {self.year_published}\"\n",
        "\n",
        "\n",
        "# Example usage\n",
        "book = Book(\"1984\", \"George Orwell\", 1949)\n",
        "print(book.get_book_info())"
      ],
      "metadata": {
        "colab": {
          "base_uri": "https://localhost:8080/"
        },
        "id": "J7Pfwo8uHXtI",
        "outputId": "087b55c1-0e98-4627-fc98-e30e50ddb8ad"
      },
      "execution_count": null,
      "outputs": [
        {
          "output_type": "stream",
          "name": "stdout",
          "text": [
            "'1984' by George Orwell, published in 1949\n"
          ]
        }
      ]
    },
    {
      "cell_type": "code",
      "source": [
        "#18. Create a class House with attributes address and price. Create a derived class Mansion that adds an attribute number_of_rooms.\n",
        "\n",
        "class House:\n",
        "    def __init__(self, address, price):\n",
        "        self.address = address\n",
        "        self.price = price\n",
        "\n",
        "\n",
        "class Mansion(House):\n",
        "    def __init__(self, address, price, number_of_rooms):\n",
        "        super().__init__(address, price)\n",
        "        self.number_of_rooms = number_of_rooms\n",
        "\n",
        "\n",
        "# Example usage\n",
        "mansion = Mansion(\"123 Luxury Lane\", 1_500_000, 10)\n",
        "print(f\"Mansion at {mansion.address} costs ${mansion.price} and has {mansion.number_of_rooms} rooms.\")"
      ],
      "metadata": {
        "colab": {
          "base_uri": "https://localhost:8080/"
        },
        "id": "-KD4KtCJHqXH",
        "outputId": "3887d717-b27b-4a4d-d79f-ff54881b7898"
      },
      "execution_count": null,
      "outputs": [
        {
          "output_type": "stream",
          "name": "stdout",
          "text": [
            "Mansion at 123 Luxury Lane costs $1500000 and has 10 rooms.\n"
          ]
        }
      ]
    },
    {
      "cell_type": "code",
      "source": [],
      "metadata": {
        "id": "S-tKSMJTIIu2"
      },
      "execution_count": null,
      "outputs": []
    }
  ]
}