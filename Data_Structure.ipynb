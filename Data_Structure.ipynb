{
  "nbformat": 4,
  "nbformat_minor": 0,
  "metadata": {
    "colab": {
      "provenance": []
    },
    "kernelspec": {
      "name": "python3",
      "display_name": "Python 3"
    },
    "language_info": {
      "name": "python"
    }
  },
  "cells": [
    {
      "cell_type": "markdown",
      "source": [
        "# **Data Structure**\n",
        "\n",
        "Q1. What are data structures, and why are they important?\n",
        "\n",
        "  -> Data structures are specialized formats for organizing, storing, and accessing collections of data. They provide efficient way to manage information based on its characteristics and intended use.\n",
        "  * Importance-\n",
        "    * Choossing the right data structure significantly impacts the efficiency and performance of the program.\n",
        "    * Optimize searching and sorting operations.\n",
        "    * Conserve memory usage.\n",
        "\n",
        "Q2. Explain the difference between mutable and immutable data types with examples.\n",
        "\n",
        " -> Mutability and Immutability affect how data is  handled and shared in programs.\n",
        "  * Mutable Data Types:\n",
        "      * It acts like a white board. we can write something on it, we can erase part of it and write something new in its place.\n",
        "        Example: Lists, Dictionaries, Sets.\n",
        "\n",
        "\n",
        "        my_list = [1,2]\n",
        "        my_list.append(3)\n",
        "        print(my_list)      #output : [1, 2, 3]\n",
        "  \n",
        "  * Immutable Data Types:\n",
        "    * It is like a printed page. Once it is printed, we can't go back and change the text. If we want to change we have to print entirely new page with the modification. The original object remains unchanged.\n",
        "     Example: int, float, str, tuple, bool, None.\n",
        "     \n",
        "\n",
        "      my_str = \"hello\"\n",
        "      new_str = my_str.upper()\n",
        "      print(my_str)             # Output: hello (Original Unchanged)\n",
        "      print(new_str)            # Output: HELLO (New string created)\n",
        "\n",
        "Q3. What are the main differnces between lists and tuples in Python.\n",
        "\n",
        "  -> The main differences between lists and tuples are:-\n",
        "  * Lists:\n",
        "    * Lists are mutable. We can change their content after creation.\n",
        "    * Lists are defined using square brackets [].\n",
        "    * Lists are used for collections of items that might need to be modified.\n",
        "\n",
        "  * Tuples:\n",
        "    * Tuples are immutable. Once created, can't be modified.\n",
        "    * Tuples are often used for collection of items that should not be modified.\n",
        "    * Tuples are typically defined using parantheses ().\n",
        "\n",
        "Q4. Describe how dictionaries store data.\n",
        "\n",
        "  -> Dictionaries in ython store data as key-value pairs with their corresponding values. They use hasing for fast lookups. Since Python 3.7, they also remember the insetion order of items. Think of it as a collection where we find information(value) using a specific label(key).\n",
        "\n",
        "Q5. Why might you use a set instead of a list in Python?\n",
        "\n",
        "  -> While choosing set over list in Python primarily focus on:\n",
        "     \n",
        "   * Uniqueness: Sets automatically encorce that all their elements are unique. If we try to add a duplicate, it simply won't be added. If we need a collection of items where duplicates are not allowed,  a set is the natural choice.\n",
        "   * Efficient Membership Testing: Checking if an element is present in a set (in operator) is significantly faster on average than doing the same in a list, especially for large collections. This is because sets use hashing for lookups.\n",
        "   * Set Operations: Sets provide built-in, efficient ways to perform mathematical set operations like union (|), intersection (&), differnce (-), and symmetric difference (^). These operations are often more concise and faster with sets than implementing them manually with lists.\n",
        "\n",
        "Q6. What is a string in Python, how is it different from a list?\n",
        "\n",
        "  -> In Python, a string is an immutable sequence of characters (e.g., \"hello\"). A list is a mutable sequence of any data type (e.g., [1, \"apple\", 3.14]). Strings are for text, with methods like .upper(). Lists are for collections, with methods like .append(). Strings can't be changed; lists can (e.g., lst[0] = 10 works, but s[0] = \"H\" fails).\n",
        "      Example:\n",
        "      # string\n",
        "      s = \"hello\"\n",
        "      print(s[0])  # Output: h\n",
        "      s[0] = \"H\"  # Error: strings are immutable\n",
        "\n",
        "      # List\n",
        "      lst = [1, \"hello\", 3.14]\n",
        "      lst[0] = 10\n",
        "      print(lst)  # Output: [10, \"hello\", 3.14]\n",
        "\n",
        "\n",
        "Q7. How do tuples ensure data integrity in Python?\n",
        "  \n",
        "  -> Tuples in Python are immutable data structures, which means that once a tuple is created, its elements cannot be changed, added or removed. This immutability is a key feature that helps ensure data integrity in several ways:\n",
        "  1. Preventing Modification: Since tuples cannot be modified after thier creation, the data they contain remains constant. This is particularly useful when we want to ensure that certain data certainity.\n",
        "  2. Hashability: Tuples are hashable (as long as their elements are also hashable), which means they can be used as keys in dictionaries or stored in sets.\n",
        "  3. Data Integrity in Function Arguments: When tuples are passed as arguments to functions, their immutability guarantees that the function cannot alter the original data.\n",
        "  4. Semantic Meaning: Tuples can be used to group related  data together,  providing a clear structure. For example, a tuple can represent a coordinate(x, y) or a record (name, age, address). This grouping helps maintain the integrity of the data by ensuring that related pieces of information are kept together.\n",
        "\n",
        "Q8. What is a hash table and how does it relate to dictionaries in Python.\n",
        "\n",
        "  -> A hash table is a data structure storing key-value pair, using a hash function to map keys to array indices for fast O(1) lookup, insertion, and deletion. Collisions are resolved via changing or probing. In Python, dictionaries are implemented as hash tables, requiring hashtable  (immutable) keys like strings or tuples. Dictionaries offer efficient operations (e,g., d[\"key\"] = value), dynamic resizing, and collision handling internally. They're ideal for tasks like storing configurations or counting occurrences. While lists can't be keys, tuples if hashable. Python abstracts hash table compelexities, ensuring reliable, high-performance key-value storage.\n",
        "\n",
        "Q9. Can lists contain different data types in Pyhton?\n",
        "\n",
        "  -> Yes, in Python, lists can contain different data types. A lists is a versatile data structure that allows to store a collection of items, and these itms can be of any type, including integers, floats, strings, and even other lists or objects.\n",
        "\n",
        "\n",
        "\n",
        "     # Creating alist with different data types\n",
        "     mixed_list = [1, \"Hello\", 3.14, True, None, [2, 3, 4]]\n",
        "     print(mixed_list[0])  # Output: 1 (integer)\n",
        "     print(mixed_list[1])  # Output: Hello (string)\n",
        "     print(mixed_list[2])  # Output: 3.14 (float)\n",
        "     print(mixed_list[3])  # Output: True (boolean)\n",
        "     print(mixed_list[4])  # Output: None (NoneType)\n",
        "     print(mixed_list[5])  # Output: [2, 3, 4] (list)\n",
        "\n",
        "Q10. Explain why strings are immutable in Python.\n",
        "\n",
        "  -> In Python, strings are immutable, meaning they cannot be modified after creation. This immutabilty offers several benefits:\n",
        "  I. Memory Efficiency: Strings can be used as dictionary keys and set elements, ensuring consistent hash values.\n",
        "  II. Hashability: Immutability strings can be used as dictionary keys and set elements, ensuring consistent hash values.\n",
        "  III. Threat safety: Multiple threads can read strings without risk of modification, simplifying concurrency.\n",
        "  IV. Predictability: Immutability leads to consistent behavior, reducing bugs.\n",
        "  V. Performance: Operations like concatenation create new strings rather than modifying existing ones, optimizing performance.\n",
        "\n",
        "Q11. What advantages do dictionaries offer over lists for certain tasks?\n",
        "\n",
        "  -> The advantage of dictionaries over lists are:\n",
        "  I. Key-Value Pair Storage: Allows intuitive data representation through associations.\n",
        "  II. Fast Lookups: Averge O(1) time complexity for lookups, insertions, and deletions.\n",
        "  III. Direct Access: Values can be accessed directly using unique keys.\n",
        "  IV. Dynamic Size: Automatically resizes as needed, providing flexible data management.\n",
        "  V. No Duplicate Keys: Ensurs unique keys, preventing data dupliction.\n",
        "  VI. Easier Data Manipulation: Support complex data structures like nested dictionaries.\n",
        "  VII. Descriptive Data Handling: Enhances code readability with self-documenting keys.\n",
        "\n",
        "Q12. Describe a senario where using a tuple would be preferable over a list.\n",
        "\n",
        "  -> Storing Geographic Coordinates:\n",
        "  Suppose we are developing a mapping application that requires storing geographic coordinates (latiyude and longitude) for various locations. Each coordinate pair is fixed and should not change throughout the program. In this case, using a tuple is ideal.\n",
        "  Example:\n",
        "\n",
        "\n",
        "      #storing coordinates as tuples:\n",
        "      location1 = (73.777,  -122.4194)\n",
        "      location2 = (34.0522, -118.2437)  # Los Angeles\n",
        "      # Accessing coordinates\n",
        "      print(\"San Francisco Coordinates:\", location1)\n",
        "      print(\"Los Angeles Coordinates:\", location2)\n",
        "\n",
        "Q13. How do sets handle duplicate values in Python?\n",
        "\n",
        "  -> In Python, sets are designed to store unique values, which means they automatically handle duplicate values by eliminating them.\n",
        "  I. Unique Elements Only: When we add an element to a set, Python checks if that element is already present.\n",
        "  II. No Order: Sets are unordered collections, meaning that the element do not have defined order.\n",
        "  III. Automatic Deduplication: When creating a set from a list (or any iterable), any duplicate values in the iterable are automatically removed.\n",
        "  IV. Performance: The underlying implementation of sets use hash tables, which allows for average O(1) time complexity for adding and checking for duplicates. This makes sets efficient for operations involving uniqueness.\n",
        "\n",
        "\n",
        "        # Creating a set with duplicate values\n",
        "        my_list = [1, 2, 2, 3, 4, 4, 5]\n",
        "        my_set = set(my_list)\n",
        "        print(my_set)  # Output: {1, 2, 3, 4, 5}\n",
        "\n",
        "Q14. How does the \"in\" keyword work differntly for lists and dictionaries?\n",
        "\n",
        "  -> The \"in\" keyword in Python is used to check for membership, but its behaviour differs between lists and dictionaries due to their underlying structures.\n",
        "  \n",
        "  I. Lists:\n",
        "  * When using 'in' with a list, it checks for the presence of a specific value within the list.\n",
        "\n",
        "\n",
        "      my_list = [1, 2, 3, 4, 5]\n",
        "      print(3 in my_list)  # Output: True\n",
        "      print(6 in my_list)  # Output: False\n",
        "\n",
        "  II. Dictionaries:\n",
        "  * When using 'in' with a dictionary, it checks for the presence of a specific key, not the value.\n",
        "\n",
        "\n",
        "\n",
        "      my_dict = {'a': 1, 'b': 2, 'c': 3}\n",
        "      print('b' in my_dict)  # Output: True\n",
        "      print(2 in my_dict)     # Output: False (checks for key, not value)\n",
        "\n",
        "Q15. Can you modify the elements of a tuple? Explain why or why not.\n",
        "\n",
        "  -> No, we cannot modify the elements of a tuple in Python. This is because tuples are immutable, meaning that once a tuple is created, its contents cannot be changed, added to, or removed.\n",
        "\n",
        "        my_tuple = (1, 2, 3)\n",
        "        #Trying to change an element\n",
        "        my_tuple[0] = 10  # Raises TypeError: 'tuple' object does not support item assignment\n",
        "\n",
        "Q16. What is a nested dictionary, and give an example of its use case?\n",
        "  \n",
        "  -> A nested dictionary is a dictionary that contains other dictionaries as values, allowing for hierarchical data organization.\n",
        "\n",
        "        Use case example:\n",
        "\n",
        "\n",
        "        students = {\n",
        "          'student1': {'name': 'Alice', 'age': 20, 'grades': {'math': 90, 'science': 85}},\n",
        "          'student2': {'name': 'Bob', 'age': 22, 'grades': {'math': 75, 'science': 80}},\n",
        "        }\n",
        "\n",
        "Q17. Describe the time complexity of accessing elements in a dictionary.\n",
        "\n",
        "  -> The average time complexity for accessing elements in a Python dictionary is O(1) (constant time) because it uses a hash table for storage. When we access a value using its key, Python computes the hash of the key to find the corresponding index, allowing for quick retrieval.\n",
        "  In rare cases, if there are many hash collisions (multiple keys hashing to the same index), the time complexity can degrade to O(n), where n is the number of elements in the dictionary. However, Python's implementation minimizes collisions, so O(1) is the typical performance for most access operations. Overall, dictionaries are efficient for key-value storage and retrieval.\n",
        "\n",
        "Q18. In what situations are lists preferred over dictionaries?\n",
        "\n",
        "  -> Lists are preferred over dictionaries in the following situations:\n",
        "\n",
        "  * Ordered Data: When the order of elements matters, lists maintain the sequence of items, allowing for easy access by index.\n",
        "  * Simple Collections: If you need to store a simple collection of items (e.g., numbers, strings) without associated keys, lists are more straightforward and efficient.\n",
        "  * Iterative Operations: Lists are better suited for operations that involve iteration, such as filtering, mapping, or applying functions to each element.\n",
        "  * Fixed Size: When the size of the collection is known and does not change, lists can be more memory-efficient than dictionaries.\n",
        "  * Slicing and Indexing: Lists support slicing, which allows you to easily access sublists or ranges of elements, a feature not available in dictionaries.\n",
        "  * Performance: For small collections or when frequent lookups by key are not required, lists can be faster and consume less memory than dictionaries.\n",
        "  Example:\n",
        "\n",
        "\n",
        "      student_names = ['Alice', 'Bob', 'Charlie']\n",
        "\n",
        "Q19. Why are dictionaries considered unordered, and how does that affect data retrieval?\n",
        "\n",
        "  -> Dictionaries in Python are considered unordered because they do not maintain the order of elements based on their insertion sequence. Instead, they use a hash table for storage, which organizes data based on the hash values of the keys. Here are the key points regarding their unordered nature and its impact on data retrieval:\n",
        "  \n",
        "**Reasons for Being Unordered**\n",
        "    \n",
        "  * Hash Table Implementation: Uses hashing to store keys, which does not preserve insertion order.\n",
        "\n",
        "  * Efficiency Focus: Optimized for fast access, insertion, and deletion rather than maintaining order.\n",
        "\n",
        "**Impact on data Retrieval**\n",
        "\n",
        "  * Access by Key: Allows O(1) average time complexity for retrieving values using keys.\n",
        "\n",
        "  * No Index-Based Access: Elements cannot be accessed by index; only by key.\n",
        "\n",
        "\n",
        "Q20. Explain the difference between a list and a dictionaryin terms of data retrieval.\n",
        "\n",
        "  -> Difference Between a List and a Dictionary in Data Retrieval\n",
        "\n",
        "  * Access Method:\n",
        "    List: Accessed by index(e.g., 'my_list[0]')\n",
        "    Dictionary: Accessed by key(e.g., 'my_dict['key1']')\n",
        "\n",
        "  * Time Complexity:\n",
        "    List: O(1) for index access; O(n) for searching by value.\n",
        "    Dictionary: O(1) average for key access.\n",
        "\n",
        "  * Order of Elements:\n",
        "    List: Maintains insertion order.\n",
        "    Dictionary: Traditionally unordered; maintains insertion order in Python 3.7+\n",
        "\n",
        "  * Use Cases:\n",
        "    List: Best for ordered collections and index-based access.\n",
        "    Dictionary: Ideal for key-value pairs and quick lookups."
      ],
      "metadata": {
        "id": "Yi0tuZj4ks6M"
      }
    },
    {
      "cell_type": "markdown",
      "source": [
        "# **Practical Questions**"
      ],
      "metadata": {
        "id": "9evEAfyk_YOt"
      }
    },
    {
      "cell_type": "code",
      "source": [
        "#1.Write a code to create a string with your name and print it.\n",
        "name = \"Your Name\"\n",
        "print(name)"
      ],
      "metadata": {
        "colab": {
          "base_uri": "https://localhost:8080/"
        },
        "id": "m_urvLav8SOk",
        "outputId": "972c2d50-f1c2-4575-fea6-09cb04e3c066"
      },
      "execution_count": 2,
      "outputs": [
        {
          "output_type": "stream",
          "name": "stdout",
          "text": [
            "Your Name\n"
          ]
        }
      ]
    },
    {
      "cell_type": "code",
      "source": [
        "#2.Write a code to find the length of the string \"Hello World\".\n",
        "length = len(\"Hello World\")\n",
        "print(length)"
      ],
      "metadata": {
        "colab": {
          "base_uri": "https://localhost:8080/"
        },
        "id": "IPZwwv_48yl0",
        "outputId": "3d6cd5ce-43ce-4ecd-d819-7cc50c913ea2"
      },
      "execution_count": 3,
      "outputs": [
        {
          "output_type": "stream",
          "name": "stdout",
          "text": [
            "11\n"
          ]
        }
      ]
    },
    {
      "cell_type": "code",
      "source": [
        "#3.Write a code to slice the first 3 characters from the string \"Python Programming\".\n",
        "sliced_string = \"Python Programming\"[:3]\n",
        "print(sliced_string)"
      ],
      "metadata": {
        "colab": {
          "base_uri": "https://localhost:8080/"
        },
        "id": "xgzzbGsU9H_a",
        "outputId": "0c66d5da-8b01-4437-dd4f-90df30f82b72"
      },
      "execution_count": 4,
      "outputs": [
        {
          "output_type": "stream",
          "name": "stdout",
          "text": [
            "Pyt\n"
          ]
        }
      ]
    },
    {
      "cell_type": "code",
      "source": [
        "#4.Write a code to convert the string \"hello\" to uppercase.\n",
        "upper_string = \"hello\".upper()\n",
        "print(upper_string)"
      ],
      "metadata": {
        "colab": {
          "base_uri": "https://localhost:8080/"
        },
        "id": "44fQy70V9PIg",
        "outputId": "d55be760-86a9-4bfe-8f22-d66a88d6400d"
      },
      "execution_count": 5,
      "outputs": [
        {
          "output_type": "stream",
          "name": "stdout",
          "text": [
            "HELLO\n"
          ]
        }
      ]
    },
    {
      "cell_type": "code",
      "source": [
        "#5.Write a code to replace the word \"apple\" with \"orange\" in the string \"I like apple\".\n",
        "replaced_string = \"I like apple\".replace(\"apple\", \"orange\")\n",
        "print(replaced_string)"
      ],
      "metadata": {
        "colab": {
          "base_uri": "https://localhost:8080/"
        },
        "id": "NV5SpBvj9fAC",
        "outputId": "11f5a125-8a61-4d5b-ca2e-c1a5f477f6c3"
      },
      "execution_count": 6,
      "outputs": [
        {
          "output_type": "stream",
          "name": "stdout",
          "text": [
            "I like orange\n"
          ]
        }
      ]
    },
    {
      "cell_type": "code",
      "source": [
        "#6.Write a code to create a list with numbers 1 to 5 and print it.\n",
        "number_list = [1, 2, 3, 4, 5]\n",
        "print(number_list)"
      ],
      "metadata": {
        "colab": {
          "base_uri": "https://localhost:8080/"
        },
        "id": "27jY9L-S90nK",
        "outputId": "6afedb5a-8566-40c9-8b2b-cab9aff9ef63"
      },
      "execution_count": 7,
      "outputs": [
        {
          "output_type": "stream",
          "name": "stdout",
          "text": [
            "[1, 2, 3, 4, 5]\n"
          ]
        }
      ]
    },
    {
      "cell_type": "code",
      "source": [
        "#7.Write a code to append the number 10 to the list [1, 2, 3, 4].\n",
        "my_list = [1, 2, 3, 4]\n",
        "my_list.append(10)\n",
        "print(my_list)"
      ],
      "metadata": {
        "colab": {
          "base_uri": "https://localhost:8080/"
        },
        "id": "IGyINIpr9_B7",
        "outputId": "804352fb-aa8d-457e-db50-ae511b5e9751"
      },
      "execution_count": 8,
      "outputs": [
        {
          "output_type": "stream",
          "name": "stdout",
          "text": [
            "[1, 2, 3, 4, 10]\n"
          ]
        }
      ]
    },
    {
      "cell_type": "code",
      "source": [
        "#8.Write a code to remove the number 3 from the list [1, 2, 3, 4, 5].\n",
        "my_list = [1, 2, 3, 4, 5]\n",
        "my_list.remove(3)\n",
        "print(my_list)"
      ],
      "metadata": {
        "colab": {
          "base_uri": "https://localhost:8080/"
        },
        "id": "lsbZ9a6G-Nhe",
        "outputId": "fdecdb54-e0ae-4c95-f71d-917470c31925"
      },
      "execution_count": 9,
      "outputs": [
        {
          "output_type": "stream",
          "name": "stdout",
          "text": [
            "[1, 2, 4, 5]\n"
          ]
        }
      ]
    },
    {
      "cell_type": "code",
      "source": [
        "#9.Write a code to access the second element in the list ['a', 'b', 'c', 'd'].\n",
        "my_list = ['a', 'b', 'c', 'd']\n",
        "second_element = my_list[1]\n",
        "print(second_element)"
      ],
      "metadata": {
        "colab": {
          "base_uri": "https://localhost:8080/"
        },
        "id": "lg8Kx829-gHC",
        "outputId": "30af6ee4-381b-415a-887a-4c3ed3b4123c"
      },
      "execution_count": 10,
      "outputs": [
        {
          "output_type": "stream",
          "name": "stdout",
          "text": [
            "b\n"
          ]
        }
      ]
    },
    {
      "cell_type": "code",
      "source": [
        "#10.Write a code to reverse the list [10, 20, 30, 40, 50].\n",
        "my_list = [10, 20, 30, 40, 50]\n",
        "my_list.reverse()\n",
        "print(my_list)"
      ],
      "metadata": {
        "colab": {
          "base_uri": "https://localhost:8080/"
        },
        "id": "pqrvCzg3-vvu",
        "outputId": "9bf1bbb0-d522-4514-f127-56cb5e8b1087"
      },
      "execution_count": 11,
      "outputs": [
        {
          "output_type": "stream",
          "name": "stdout",
          "text": [
            "[50, 40, 30, 20, 10]\n"
          ]
        }
      ]
    },
    {
      "cell_type": "code",
      "source": [
        "#11.Write a code to create a tuple with the elements 100, 200, 300 and print it.\n",
        "my_tuple = (100, 200, 300)\n",
        "print(my_tuple)"
      ],
      "metadata": {
        "colab": {
          "base_uri": "https://localhost:8080/"
        },
        "id": "AEdc-5kM_Bn4",
        "outputId": "71807063-caa2-4eb4-a37f-dd9f59b5fa54"
      },
      "execution_count": 12,
      "outputs": [
        {
          "output_type": "stream",
          "name": "stdout",
          "text": [
            "(100, 200, 300)\n"
          ]
        }
      ]
    },
    {
      "cell_type": "code",
      "source": [
        "#12. Write a code to access the second-to-last element of the tuple ('red', 'green', 'blue', 'yellow')\n",
        "my_tuple = ('red', 'green', 'blue', 'yellow')\n",
        "second_to_last_element = my_tuple[-2]\n",
        "print(second_to_last_element)"
      ],
      "metadata": {
        "colab": {
          "base_uri": "https://localhost:8080/"
        },
        "id": "Np4-yS67AwkE",
        "outputId": "f5ebf5fb-bfe5-4675-fc96-0edf5577b442"
      },
      "execution_count": 13,
      "outputs": [
        {
          "output_type": "stream",
          "name": "stdout",
          "text": [
            "blue\n"
          ]
        }
      ]
    },
    {
      "cell_type": "code",
      "source": [
        "#13. Write a code to find the minimum number in the tuple (10, 20, 5, 15).\n",
        "my_tuple = (10, 20, 5, 15)\n",
        "minimum_number = min(my_tuple)\n",
        "print(minimum_number)"
      ],
      "metadata": {
        "colab": {
          "base_uri": "https://localhost:8080/"
        },
        "id": "yQHPlLoXA7u7",
        "outputId": "5c67dba9-9553-4dea-b52f-9c8fea37baa7"
      },
      "execution_count": 14,
      "outputs": [
        {
          "output_type": "stream",
          "name": "stdout",
          "text": [
            "5\n"
          ]
        }
      ]
    },
    {
      "cell_type": "code",
      "source": [
        "#14. Write a code to find the index of the element \"cat\" in the tuple ('dog', 'cat', 'rabbit').\n",
        "my_tuple = ('dog', 'cat', 'rabbit')\n",
        "index_of_cat = my_tuple.index('cat')\n",
        "print(index_of_cat)"
      ],
      "metadata": {
        "colab": {
          "base_uri": "https://localhost:8080/"
        },
        "id": "GjjN-uzTBHlZ",
        "outputId": "d18164b1-9644-44d6-c937-93299fa9d6b2"
      },
      "execution_count": 15,
      "outputs": [
        {
          "output_type": "stream",
          "name": "stdout",
          "text": [
            "1\n"
          ]
        }
      ]
    },
    {
      "cell_type": "code",
      "source": [
        "#15. Write a code to create a tuple containing three different fruits and check if \"kiwi\" is in it.\n",
        "fruits_tuple = (\"apple\", \"banana\", \"cherry\")\n",
        "is_kiwi_in_tuple = \"kiwi\" in fruits_tuple\n",
        "print(is_kiwi_in_tuple)"
      ],
      "metadata": {
        "colab": {
          "base_uri": "https://localhost:8080/"
        },
        "id": "JGFqwAM4BML9",
        "outputId": "f5d746ac-8b44-4b66-ac32-92d3ccb6739e"
      },
      "execution_count": 16,
      "outputs": [
        {
          "output_type": "stream",
          "name": "stdout",
          "text": [
            "False\n"
          ]
        }
      ]
    },
    {
      "cell_type": "code",
      "source": [
        "#16. Write a code to create a set with the elements 'a', 'b', 'c' and print it.\n",
        "my_set = {'c', 'b', 'a'}\n",
        "print(my_set)"
      ],
      "metadata": {
        "colab": {
          "base_uri": "https://localhost:8080/"
        },
        "id": "6LgFeaPGBR1n",
        "outputId": "68a5a9e3-030d-4c1e-876a-b70416a5a330"
      },
      "execution_count": 20,
      "outputs": [
        {
          "output_type": "stream",
          "name": "stdout",
          "text": [
            "{'c', 'a', 'b'}\n"
          ]
        }
      ]
    },
    {
      "cell_type": "code",
      "source": [
        "#17. Write a code to clear all elements from the set {1, 2, 3, 4, 5}.\n",
        "my_set = {1, 2, 3, 4, 5}\n",
        "my_set.clear()\n",
        "print(my_set)"
      ],
      "metadata": {
        "colab": {
          "base_uri": "https://localhost:8080/"
        },
        "id": "i1lOUUKFBiU8",
        "outputId": "a8dbd3ec-bfd6-49c6-9d3b-f603499a06ba"
      },
      "execution_count": 21,
      "outputs": [
        {
          "output_type": "stream",
          "name": "stdout",
          "text": [
            "set()\n"
          ]
        }
      ]
    },
    {
      "cell_type": "code",
      "source": [
        "#18. Write a code to remove the element 4 from the set {1, 2, 3, 4}.\n",
        "my_set = {1, 2, 3, 4}\n",
        "my_set.remove(4)\n",
        "print(my_set)"
      ],
      "metadata": {
        "colab": {
          "base_uri": "https://localhost:8080/"
        },
        "id": "H6tMnuKRB34c",
        "outputId": "86138aee-ca26-4c24-83f9-bf71da7cd57c"
      },
      "execution_count": 22,
      "outputs": [
        {
          "output_type": "stream",
          "name": "stdout",
          "text": [
            "{1, 2, 3}\n"
          ]
        }
      ]
    },
    {
      "cell_type": "code",
      "source": [
        "#19. Write a code to find the union of two sets {1, 2, 3} and {3, 4, 5}.\n",
        "set1 = {1, 2, 3}\n",
        "set2 = {3, 4, 5}\n",
        "union_set = set1.union(set2)\n",
        "print(union_set)"
      ],
      "metadata": {
        "colab": {
          "base_uri": "https://localhost:8080/"
        },
        "id": "dIEltQCDCDEp",
        "outputId": "de3a5f82-c55c-4774-8626-2061c91068bc"
      },
      "execution_count": 23,
      "outputs": [
        {
          "output_type": "stream",
          "name": "stdout",
          "text": [
            "{1, 2, 3, 4, 5}\n"
          ]
        }
      ]
    },
    {
      "cell_type": "code",
      "source": [
        "#20. Write a code to find the intersection of two sets {1, 2, 3} and {2, 3, 4}.\n",
        "set1 = {1, 2, 3}\n",
        "set2 = {2, 3, 4}\n",
        "intersection_set = set1.intersection(set2)\n",
        "print(intersection_set)"
      ],
      "metadata": {
        "colab": {
          "base_uri": "https://localhost:8080/"
        },
        "id": "VnAtczeMCGnq",
        "outputId": "482d9bca-aa38-4a31-962a-e3444ad54269"
      },
      "execution_count": 25,
      "outputs": [
        {
          "output_type": "stream",
          "name": "stdout",
          "text": [
            "{2, 3}\n"
          ]
        }
      ]
    },
    {
      "cell_type": "code",
      "source": [
        "#21. Write a code to create a dictionary with the keys \"name\", \"age\", and \"city\", and print it.\n",
        "my_dict = {\n",
        "    \"name\": \"John\",\n",
        "    \"age\": 25,\n",
        "    \"city\": \"New York\"\n",
        "}\n",
        "print(my_dict)"
      ],
      "metadata": {
        "colab": {
          "base_uri": "https://localhost:8080/"
        },
        "id": "wN_DlZ-0CKMr",
        "outputId": "2d3cc923-ea7a-401b-e0ef-a5da86b691ec"
      },
      "execution_count": 26,
      "outputs": [
        {
          "output_type": "stream",
          "name": "stdout",
          "text": [
            "{'name': 'John', 'age': 25, 'city': 'New York'}\n"
          ]
        }
      ]
    },
    {
      "cell_type": "code",
      "source": [
        "#22. Write a code to add a new key-value pair \"country\": \"USA\" to the dictionary {'name': 'John', 'age': 25}.\n",
        "my_dict = {'name': 'John', 'age': 25}\n",
        "my_dict['country'] = 'USA'\n",
        "print(my_dict)"
      ],
      "metadata": {
        "colab": {
          "base_uri": "https://localhost:8080/"
        },
        "id": "RGVBTZ5BCYTs",
        "outputId": "abbbd220-6e3d-4206-a57a-fa4e47376e77"
      },
      "execution_count": 27,
      "outputs": [
        {
          "output_type": "stream",
          "name": "stdout",
          "text": [
            "{'name': 'John', 'age': 25, 'country': 'USA'}\n"
          ]
        }
      ]
    },
    {
      "cell_type": "code",
      "source": [
        "#23. Write a code to access the value associated with the key \"name\" in the dictionary {'name': 'Alice', 'age':30}.\n",
        "my_dict = {'name': 'Alice', 'age': 30}\n",
        "name_value = my_dict['name']\n",
        "print(name_value)"
      ],
      "metadata": {
        "colab": {
          "base_uri": "https://localhost:8080/"
        },
        "id": "gPTRLhcZCfDF",
        "outputId": "12656384-184f-4177-b5ba-43af6c20f188"
      },
      "execution_count": 28,
      "outputs": [
        {
          "output_type": "stream",
          "name": "stdout",
          "text": [
            "Alice\n"
          ]
        }
      ]
    },
    {
      "cell_type": "code",
      "source": [
        "#24. Write a code to remove the key \"age\" from the dictionary {'name': 'Bob', 'age': 22, 'city': 'New York'}.\n",
        "my_dict = {'name': 'Bob', 'age': 22, 'city': 'New York'}\n",
        "del my_dict['age']\n",
        "print(my_dict)"
      ],
      "metadata": {
        "colab": {
          "base_uri": "https://localhost:8080/"
        },
        "id": "YIy-8S7sCzpL",
        "outputId": "497a58b1-b1f9-4632-b453-4df081785979"
      },
      "execution_count": 29,
      "outputs": [
        {
          "output_type": "stream",
          "name": "stdout",
          "text": [
            "{'name': 'Bob', 'city': 'New York'}\n"
          ]
        }
      ]
    },
    {
      "cell_type": "code",
      "source": [
        "#25. Write a code to check if the key \"city\" exists in the dictionary {'name': 'Alice', 'city': 'Paris'}.\n",
        "my_dict = {'name': 'Alice', 'city': 'Paris'}\n",
        "city_exists = 'city' in my_dict\n",
        "print(city_exists)"
      ],
      "metadata": {
        "colab": {
          "base_uri": "https://localhost:8080/"
        },
        "id": "k3eflzJcC_hy",
        "outputId": "8df59e1d-ee88-4f0f-a4d6-df1448eed9eb"
      },
      "execution_count": 30,
      "outputs": [
        {
          "output_type": "stream",
          "name": "stdout",
          "text": [
            "True\n"
          ]
        }
      ]
    },
    {
      "cell_type": "code",
      "source": [
        "#26. Write a code to create a list, a tuple, and a dictionary, and print them all\n",
        "my_list = [1, 2, 3]\n",
        "my_tuple = (4, 5, 6)\n",
        "my_dict = {'a': 1, 'b': 2, 'c': 3}"
      ],
      "metadata": {
        "id": "CYDw1DOcDGOo"
      },
      "execution_count": 31,
      "outputs": []
    },
    {
      "cell_type": "code",
      "source": [
        "#27. Write a code to create a list of 5 random numbers between 1 and 100, sort it in ascending order, and print the result.(replaced).\n",
        "import random\n",
        "random_numbers = [random.randint(1, 100) for _ in range(5)]\n",
        "random_numbers.sort()\n",
        "print(random_numbers)"
      ],
      "metadata": {
        "colab": {
          "base_uri": "https://localhost:8080/"
        },
        "id": "2Ff3mosyDQUO",
        "outputId": "385eb7a7-4af0-4ee0-b62c-220af0bb8aaf"
      },
      "execution_count": 32,
      "outputs": [
        {
          "output_type": "stream",
          "name": "stdout",
          "text": [
            "[1, 16, 31, 73, 82]\n"
          ]
        }
      ]
    },
    {
      "cell_type": "code",
      "source": [
        "#28. Write a code to create a list with strings and print the element at the third index.\n",
        "my_list = [\"apple\", \"banana\", \"cherry\", \"date\", \"elderberry\"]\n",
        "third_element = my_list[2]\n",
        "print(third_element)"
      ],
      "metadata": {
        "colab": {
          "base_uri": "https://localhost:8080/"
        },
        "id": "iTRNNvQ_Dcqi",
        "outputId": "acb8478c-0ac3-47aa-86e9-dfbb2595d205"
      },
      "execution_count": 33,
      "outputs": [
        {
          "output_type": "stream",
          "name": "stdout",
          "text": [
            "cherry\n"
          ]
        }
      ]
    },
    {
      "cell_type": "code",
      "source": [
        "#29.Write a code to combine two dictionaries into one and print the result.\n",
        "my_dict1 = {'a': 1, 'b': 2}\n",
        "my_dict2 = {'c': 3, 'd': 4}\n",
        "combined_dict = {**my_dict1, **my_dict2}\n",
        "print(combined_dict)"
      ],
      "metadata": {
        "colab": {
          "base_uri": "https://localhost:8080/"
        },
        "id": "up3v6DIaDlK6",
        "outputId": "7d1046f8-e67e-4842-fbdf-8f11559a6774"
      },
      "execution_count": 34,
      "outputs": [
        {
          "output_type": "stream",
          "name": "stdout",
          "text": [
            "{'a': 1, 'b': 2, 'c': 3, 'd': 4}\n"
          ]
        }
      ]
    },
    {
      "cell_type": "code",
      "source": [
        "#30.write a code to convert a list of strings into a set.\n",
        "string_list = [\"apple\", \"banana\", \"cherry\", \"date\"]\n",
        "string_set = set(string_list)\n",
        "print(string_set)"
      ],
      "metadata": {
        "colab": {
          "base_uri": "https://localhost:8080/"
        },
        "id": "jwOO8RnfE6MA",
        "outputId": "101877e6-9e63-473f-cee5-a1feef8df2c7"
      },
      "execution_count": 36,
      "outputs": [
        {
          "output_type": "stream",
          "name": "stdout",
          "text": [
            "{'cherry', 'banana', 'apple', 'date'}\n"
          ]
        }
      ]
    },
    {
      "cell_type": "code",
      "source": [],
      "metadata": {
        "id": "Bucw23hIFmzc"
      },
      "execution_count": null,
      "outputs": []
    }
  ]
}